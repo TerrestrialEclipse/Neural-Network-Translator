{
 "cells": [
  {
   "cell_type": "markdown",
   "metadata": {},
   "source": [
    "TH Nürnberg - Neural Network Translator - Christoph Brandl, Philipp Grandeit\n",
    "\n",
    "# Build sample neural networks for the neural network translator\n",
    "\n",
    "This jupyter notebooks provides everything you need to build sample neural networks with tensorflow (keras) which you can later translate with the neural network translator."
   ]
  },
  {
   "cell_type": "code",
   "execution_count": 1,
   "metadata": {},
   "outputs": [],
   "source": [
    "from tensorflow import keras\n",
    "import tensorflow as tf\n",
    "import numpy as np\n",
    "from sklearn.preprocessing import scale\n",
    "import time\n",
    "import os"
   ]
  },
  {
   "cell_type": "code",
   "execution_count": 2,
   "metadata": {},
   "outputs": [],
   "source": [
    "if not os.path.exists('out'):\n",
    "    os.makedirs('out')"
   ]
  },
  {
   "cell_type": "markdown",
   "metadata": {},
   "source": [
    "## Average Pooling 1D"
   ]
  },
  {
   "cell_type": "markdown",
   "metadata": {},
   "source": [
    "In this section we will build a neural network only consisting of one single average pooling 1D layer. The created model can then be used to validate the implementation of the average pooling layer."
   ]
  },
  {
   "cell_type": "markdown",
   "metadata": {},
   "source": [
    "In the following step we will prepare all the necessary data to build and train this simple neural network. Since the pooling layer is a linear process no learning will take place in this step. Hence, it does not matter which data we will use. The only thing we have to make sure is that the shape of the input and output data is correct. "
   ]
  },
  {
   "cell_type": "code",
   "execution_count": 3,
   "metadata": {},
   "outputs": [],
   "source": [
    "data_x = np.array([[1,2,3,4,5,6]])\n",
    "data_y = np.array([[1,2,3]])\n",
    "\n",
    "data_x = scale(data_x,axis=0)\n",
    "data_x = tf.reshape(data_x,[-1,6,1])\n",
    "data_y = tf.reshape(data_y,[-1,3,1])"
   ]
  },
  {
   "cell_type": "markdown",
   "metadata": {},
   "source": [
    "In the next step we will actually build the model. You can change the different parameters of the layer to play around with different settings and fully test the average pooling layer."
   ]
  },
  {
   "cell_type": "code",
   "execution_count": 4,
   "metadata": {},
   "outputs": [],
   "source": [
    "model = keras.Sequential()\n",
    "model.add(keras.layers.AveragePooling1D(pool_size=2, strides=2 ,padding='valid', input_shape = (6,1)))"
   ]
  },
  {
   "cell_type": "code",
   "execution_count": 5,
   "metadata": {},
   "outputs": [],
   "source": [
    "model.compile(loss='binary_crossentropy', optimizer='adam', metrics=['accuracy'])"
   ]
  },
  {
   "cell_type": "markdown",
   "metadata": {},
   "source": [
    "The following code snippet will throw a warning since we do not actually learn anything. Since this is the planned behaviour, the warning can be ignored."
   ]
  },
  {
   "cell_type": "code",
   "execution_count": 6,
   "metadata": {},
   "outputs": [
    {
     "name": "stderr",
     "output_type": "stream",
     "text": [
      "WARNING: Logging before flag parsing goes to stderr.\n",
      "W1212 21:44:36.001167  5736 training_eager.py:274] The list of trainable weights is empty. Make sure that you are not setting model.trainable to False before compiling the model.\n"
     ]
    },
    {
     "name": "stdout",
     "output_type": "stream",
     "text": [
      "Train on 1 samples\n",
      "\r",
      "1/1 [==============================] - 0s 110ms/sample - loss: 30.8499 - accuracy: 0.0000e+00\n"
     ]
    },
    {
     "data": {
      "text/plain": [
       "<tensorflow.python.keras.callbacks.History at 0x1e133654eb8>"
      ]
     },
     "execution_count": 6,
     "metadata": {},
     "output_type": "execute_result"
    }
   ],
   "source": [
    "model.fit(data_x, data_y, epochs=1, batch_size=10)"
   ]
  },
  {
   "cell_type": "markdown",
   "metadata": {},
   "source": [
    "We can now save our model to a .h5 file to translate it with the neural network translator."
   ]
  },
  {
   "cell_type": "code",
   "execution_count": 7,
   "metadata": {},
   "outputs": [],
   "source": [
    "model.save('out/avg_pool_1d.h5')"
   ]
  },
  {
   "cell_type": "markdown",
   "metadata": {},
   "source": [
    "In the next step we will prepare a sample input to check if the result of our build model is equal to the result of our translated model"
   ]
  },
  {
   "cell_type": "code",
   "execution_count": 8,
   "metadata": {},
   "outputs": [],
   "source": [
    "input_array = np.array([[1.0,2,3,4,5,6]])"
   ]
  },
  {
   "cell_type": "markdown",
   "metadata": {},
   "source": [
    "To make it more convenient, we will prepare the input data so that we can simply copy and paste the values in the serial dialog of our arduino ide. We can now simply copy and paste the values inbetween of the square brackets [ ]."
   ]
  },
  {
   "cell_type": "code",
   "execution_count": 9,
   "metadata": {},
   "outputs": [
    {
     "name": "stdout",
     "output_type": "stream",
     "text": [
      "[1.0, 2.0, 3.0, 4.0, 5.0, 6.0]\n"
     ]
    }
   ],
   "source": [
    "print(input_array.flatten().tolist())"
   ]
  },
  {
   "cell_type": "markdown",
   "metadata": {},
   "source": [
    "In the next step we will perform the prediction with the trained network."
   ]
  },
  {
   "cell_type": "code",
   "execution_count": 10,
   "metadata": {},
   "outputs": [
    {
     "name": "stdout",
     "output_type": "stream",
     "text": [
      "[[[1.5]\n",
      "  [3.5]\n",
      "  [5.5]]]\n",
      "process time in microseconds: 78911\n"
     ]
    }
   ],
   "source": [
    "input = tf.reshape(input_array,[1,6,1])\n",
    "\n",
    "time_before = int(round(time.time_ns() / 1000))\n",
    "predictions = model.predict(input)\n",
    "time_after = int(round(time.time_ns() / 1000))\n",
    "print(predictions)\n",
    "print(\"process time in microseconds: \" + str(time_after - time_before))"
   ]
  },
  {
   "cell_type": "markdown",
   "metadata": {},
   "source": [
    "We can now compare the output of our trained model with the output of the neural network translator."
   ]
  },
  {
   "cell_type": "markdown",
   "metadata": {},
   "source": [
    "## Average Pooling 2D"
   ]
  },
  {
   "cell_type": "markdown",
   "metadata": {},
   "source": [
    "In this section we repeat the building process but instead of a 1D average pooling layer we will build a neural network only consisting of one single average pooling 2D layer. The created model can then be again used to validate the implementation of the average pooling layer."
   ]
  },
  {
   "cell_type": "markdown",
   "metadata": {},
   "source": [
    "In the following step we will prepare all the necessary data to build and train this simple neural network. Since the pooling layer is a linear process no learning will take place in this step. Hence, it does not matter which data we will use. The only thing we have to make sure is that the shape of the input and output data is correct. "
   ]
  },
  {
   "cell_type": "code",
   "execution_count": 11,
   "metadata": {},
   "outputs": [],
   "source": [
    "data_x = np.array([[1,1,1], [1,1,1], [1,1,1], [1,1,1], [1,1,1]])\n",
    "data_y = np.array([[[1],[1]],[[1],[1]],[[1],[1]],[[1],[1]]])\n",
    "\n",
    "data_x = scale(data_x,axis=0)\n",
    "data_x = tf.reshape(data_x,[-1,5,3,1])\n",
    "data_y = tf.reshape(data_y,[-1,4,2,1])"
   ]
  },
  {
   "cell_type": "markdown",
   "metadata": {},
   "source": [
    "In the next step we will actually build the model. You can change the different parameters of the layer to play around with different settings and fully test the average pooling layer."
   ]
  },
  {
   "cell_type": "code",
   "execution_count": 12,
   "metadata": {},
   "outputs": [],
   "source": [
    "model = keras.Sequential()\n",
    "model.add(keras.layers.AveragePooling2D(pool_size=(2,2), strides=(1,1),padding='valid', input_shape = (5,3,1)))"
   ]
  },
  {
   "cell_type": "code",
   "execution_count": 13,
   "metadata": {},
   "outputs": [],
   "source": [
    "model.compile(loss='binary_crossentropy', optimizer='adam', metrics=['accuracy'])"
   ]
  },
  {
   "cell_type": "markdown",
   "metadata": {},
   "source": [
    "The following code snippet will throw a warning since we do not actually learn anything. Since this is the planned behaviour, the warning can be ignored."
   ]
  },
  {
   "cell_type": "code",
   "execution_count": 14,
   "metadata": {},
   "outputs": [
    {
     "name": "stdout",
     "output_type": "stream",
     "text": [
      "Train on 1 samples\n"
     ]
    },
    {
     "name": "stderr",
     "output_type": "stream",
     "text": [
      "W1212 21:44:36.470662  5736 training_eager.py:274] The list of trainable weights is empty. Make sure that you are not setting model.trainable to False before compiling the model.\n"
     ]
    },
    {
     "name": "stdout",
     "output_type": "stream",
     "text": [
      "\r",
      "1/1 [==============================] - 0s 92ms/sample - loss: 15.4249 - accuracy: 0.0000e+00\n"
     ]
    },
    {
     "data": {
      "text/plain": [
       "<tensorflow.python.keras.callbacks.History at 0x1e1339bbc18>"
      ]
     },
     "execution_count": 14,
     "metadata": {},
     "output_type": "execute_result"
    }
   ],
   "source": [
    "model.fit(data_x, data_y, epochs=1, batch_size=10)"
   ]
  },
  {
   "cell_type": "markdown",
   "metadata": {},
   "source": [
    "We can now save our model to a .h5 file to translate it with the neural network translator."
   ]
  },
  {
   "cell_type": "code",
   "execution_count": 15,
   "metadata": {},
   "outputs": [],
   "source": [
    "model.save('out/avg_pool_2d.h5')"
   ]
  },
  {
   "cell_type": "markdown",
   "metadata": {},
   "source": [
    "In the next step we will prepare a sample input to check if the result of our build model is equal to the result of our translated model"
   ]
  },
  {
   "cell_type": "code",
   "execution_count": 16,
   "metadata": {},
   "outputs": [],
   "source": [
    "input_array = np.array([[26,1,37], [115,189,31.3], [31.3,29.6,103], [0.205,0,83], [41,36,2.2]])"
   ]
  },
  {
   "cell_type": "markdown",
   "metadata": {},
   "source": [
    "To make it more convenient, we will prepare the input data so that we can simply copy and paste the values in the serial dialog of our arduino ide. We can now simply copy and paste the values inbetween of the square brackets [ ]."
   ]
  },
  {
   "cell_type": "code",
   "execution_count": 17,
   "metadata": {},
   "outputs": [
    {
     "name": "stdout",
     "output_type": "stream",
     "text": [
      "[26.0, 1.0, 37.0, 115.0, 189.0, 31.3, 31.3, 29.6, 103.0, 0.205, 0.0, 83.0, 41.0, 36.0, 2.2]\n"
     ]
    }
   ],
   "source": [
    "print(input_array.flatten().tolist())"
   ]
  },
  {
   "cell_type": "markdown",
   "metadata": {},
   "source": [
    "In the next step we will perform the prediction with the trained network."
   ]
  },
  {
   "cell_type": "code",
   "execution_count": 18,
   "metadata": {},
   "outputs": [
    {
     "name": "stdout",
     "output_type": "stream",
     "text": [
      "[[[[82.75    ]\n",
      "   [64.575   ]]\n",
      "\n",
      "  [[91.225   ]\n",
      "   [88.225006]]\n",
      "\n",
      "  [[15.276251]\n",
      "   [53.9     ]]\n",
      "\n",
      "  [[19.30125 ]\n",
      "   [30.3     ]]]]\n",
      "process time in microseconds: 59847\n"
     ]
    }
   ],
   "source": [
    "input = tf.reshape(input_array,[1,5,3,1])\n",
    "\n",
    "time_before = int(round(time.time_ns() / 1000))\n",
    "predictions = model.predict(input)\n",
    "time_after = int(round(time.time_ns() / 1000))\n",
    "print(predictions)\n",
    "print(\"process time in microseconds: \" + str(time_after - time_before))"
   ]
  },
  {
   "cell_type": "markdown",
   "metadata": {},
   "source": [
    "We can now compare the output of our trained model with the output of the neural network translator."
   ]
  },
  {
   "cell_type": "markdown",
   "metadata": {},
   "source": [
    "## Max Pooling 1D"
   ]
  },
  {
   "cell_type": "markdown",
   "metadata": {},
   "source": [
    "In this section we will build a neural network only consisting of one single max pooling 1D layer. The created model can then be used to validate the implementation of the average pooling layer."
   ]
  },
  {
   "cell_type": "markdown",
   "metadata": {},
   "source": [
    "In the following step we will prepare all the necessary data to build and train this simple neural network. Since the pooling layer is a linear process no learning will take place in this step. Hence, it does not matter which data we will use. The only thing we have to make sure is that the shape of the input and output data is correct. "
   ]
  },
  {
   "cell_type": "code",
   "execution_count": 19,
   "metadata": {},
   "outputs": [],
   "source": [
    "data_x = np.array([[1,2,3,4,5,6]])\n",
    "data_y = np.array([[1,2,3]])\n",
    "\n",
    "data_x = scale(data_x,axis=0)\n",
    "data_x = tf.reshape(data_x,[-1,6,1])\n",
    "data_y = tf.reshape(data_y,[-1,3,1])"
   ]
  },
  {
   "cell_type": "markdown",
   "metadata": {},
   "source": [
    "In the next step we will actually build the model. You can change the different parameters of the layer to play around with different settings and fully test the average pooling layer."
   ]
  },
  {
   "cell_type": "code",
   "execution_count": 20,
   "metadata": {},
   "outputs": [],
   "source": [
    "model = keras.Sequential()\n",
    "model.add(keras.layers.MaxPooling1D(pool_size=2, strides=2 ,padding='valid', input_shape = (6,1)))"
   ]
  },
  {
   "cell_type": "code",
   "execution_count": 21,
   "metadata": {},
   "outputs": [],
   "source": [
    "model.compile(loss='binary_crossentropy', optimizer='adam', metrics=['accuracy'])"
   ]
  },
  {
   "cell_type": "markdown",
   "metadata": {},
   "source": [
    "The following code snippet will throw a warning since we do not actually learn anything. Since this is the planned behaviour, the warning can be ignored."
   ]
  },
  {
   "cell_type": "code",
   "execution_count": 22,
   "metadata": {},
   "outputs": [
    {
     "name": "stdout",
     "output_type": "stream",
     "text": [
      "Train on 1 samples"
     ]
    },
    {
     "name": "stderr",
     "output_type": "stream",
     "text": [
      "W1212 21:44:36.984802  5736 training_eager.py:274] The list of trainable weights is empty. Make sure that you are not setting model.trainable to False before compiling the model.\n"
     ]
    },
    {
     "name": "stdout",
     "output_type": "stream",
     "text": [
      "\n",
      "1/1 [==============================] - 0s 184ms/sample - loss: 30.8499 - accuracy: 0.0000e+00\n"
     ]
    },
    {
     "data": {
      "text/plain": [
       "<tensorflow.python.keras.callbacks.History at 0x1e133bb47b8>"
      ]
     },
     "execution_count": 22,
     "metadata": {},
     "output_type": "execute_result"
    }
   ],
   "source": [
    "model.fit(data_x, data_y, epochs=1, batch_size=10)"
   ]
  },
  {
   "cell_type": "markdown",
   "metadata": {},
   "source": [
    "We can now save our model to a .h5 file to translate it with the neural network translator."
   ]
  },
  {
   "cell_type": "code",
   "execution_count": 23,
   "metadata": {},
   "outputs": [],
   "source": [
    "model.save('out/max_pool_1d.h5')"
   ]
  },
  {
   "cell_type": "markdown",
   "metadata": {},
   "source": [
    "In the next step we will prepare a sample input to check if the result of our build model is equal to the result of our translated model"
   ]
  },
  {
   "cell_type": "code",
   "execution_count": 24,
   "metadata": {},
   "outputs": [],
   "source": [
    "input_array = np.array([[1.0,2,3,4,5,6]])"
   ]
  },
  {
   "cell_type": "markdown",
   "metadata": {},
   "source": [
    "To make it more convenient, we will prepare the input data so that we can simply copy and paste the values in the serial dialog of our arduino ide. We can now simply copy and paste the values inbetween of the square brackets [ ]."
   ]
  },
  {
   "cell_type": "code",
   "execution_count": 25,
   "metadata": {},
   "outputs": [
    {
     "name": "stdout",
     "output_type": "stream",
     "text": [
      "[1.0, 2.0, 3.0, 4.0, 5.0, 6.0]\n"
     ]
    }
   ],
   "source": [
    "print(input_array.flatten().tolist())"
   ]
  },
  {
   "cell_type": "markdown",
   "metadata": {},
   "source": [
    "In the next step we will perform the prediction with the trained network."
   ]
  },
  {
   "cell_type": "code",
   "execution_count": 26,
   "metadata": {},
   "outputs": [
    {
     "name": "stdout",
     "output_type": "stream",
     "text": [
      "[[[2.]\n",
      "  [4.]\n",
      "  [6.]]]\n",
      "process time in microseconds: 75947\n"
     ]
    }
   ],
   "source": [
    "input = tf.reshape(input_array,[1,6,1])\n",
    "\n",
    "time_before = int(round(time.time_ns() / 1000))\n",
    "predictions = model.predict(input)\n",
    "time_after = int(round(time.time_ns() / 1000))\n",
    "print(predictions)\n",
    "print(\"process time in microseconds: \" + str(time_after - time_before))"
   ]
  },
  {
   "cell_type": "markdown",
   "metadata": {},
   "source": [
    "We can now compare the output of our trained model with the output of the neural network translator."
   ]
  },
  {
   "cell_type": "markdown",
   "metadata": {},
   "source": [
    "## Max Pooling 2D"
   ]
  },
  {
   "cell_type": "markdown",
   "metadata": {},
   "source": [
    "In this section we repeat the building process but instead of a 1D average pooling layer we will build a neural network only consisting of one single average pooling 2D layer. The created model can then be again used to validate the implementation of the average pooling layer."
   ]
  },
  {
   "cell_type": "markdown",
   "metadata": {},
   "source": [
    "In the following step we will prepare all the necessary data to build and train this simple neural network. Since the pooling layer is a linear process no learning will take place in this step. Hence, it does not matter which data we will use. The only thing we have to make sure is that the shape of the input and output data is correct. "
   ]
  },
  {
   "cell_type": "code",
   "execution_count": 27,
   "metadata": {},
   "outputs": [],
   "source": [
    "data_x = np.array([[1,1,1], [1,1,1], [1,1,1], [1,1,1], [1,1,1]])\n",
    "data_y = np.array([[[1],[1]],[[1],[1]],[[1],[1]],[[1],[1]]])\n",
    "\n",
    "data_x = scale(data_x,axis=0)\n",
    "data_x = tf.reshape(data_x,[-1,5,3,1])\n",
    "data_y = tf.reshape(data_y,[-1,4,2,1])"
   ]
  },
  {
   "cell_type": "markdown",
   "metadata": {},
   "source": [
    "In the next step we will actually build the model. You can change the different parameters of the layer to play around with different settings and fully test the average pooling layer."
   ]
  },
  {
   "cell_type": "code",
   "execution_count": 28,
   "metadata": {},
   "outputs": [],
   "source": [
    "model = keras.Sequential()\n",
    "model.add(keras.layers.MaxPooling2D(pool_size=(2,2), strides=(1,1),padding='valid', input_shape = (5,3,1)))"
   ]
  },
  {
   "cell_type": "code",
   "execution_count": 29,
   "metadata": {},
   "outputs": [],
   "source": [
    "model.compile(loss='binary_crossentropy', optimizer='adam', metrics=['accuracy'])"
   ]
  },
  {
   "cell_type": "markdown",
   "metadata": {},
   "source": [
    "The following code snippet will throw a warning since we do not actually learn anything. Since this is the planned behaviour, the warning can be ignored."
   ]
  },
  {
   "cell_type": "code",
   "execution_count": 30,
   "metadata": {},
   "outputs": [
    {
     "name": "stdout",
     "output_type": "stream",
     "text": [
      "Train on 1 samples\n"
     ]
    },
    {
     "name": "stderr",
     "output_type": "stream",
     "text": [
      "W1212 21:44:37.469690  5736 training_eager.py:274] The list of trainable weights is empty. Make sure that you are not setting model.trainable to False before compiling the model.\n"
     ]
    },
    {
     "name": "stdout",
     "output_type": "stream",
     "text": [
      "\r",
      "1/1 [==============================] - 0s 113ms/sample - loss: 15.4249 - accuracy: 0.0000e+00\n"
     ]
    },
    {
     "data": {
      "text/plain": [
       "<tensorflow.python.keras.callbacks.History at 0x1e133e820b8>"
      ]
     },
     "execution_count": 30,
     "metadata": {},
     "output_type": "execute_result"
    }
   ],
   "source": [
    "model.fit(data_x, data_y, epochs=1, batch_size=10)"
   ]
  },
  {
   "cell_type": "markdown",
   "metadata": {},
   "source": [
    "We can now save our model to a .h5 file to translate it with the neural network translator."
   ]
  },
  {
   "cell_type": "code",
   "execution_count": 31,
   "metadata": {},
   "outputs": [],
   "source": [
    "model.save('out/max_pool_2d.h5')"
   ]
  },
  {
   "cell_type": "markdown",
   "metadata": {},
   "source": [
    "In the next step we will prepare a sample input to check if the result of our build model is equal to the result of our translated model"
   ]
  },
  {
   "cell_type": "code",
   "execution_count": 32,
   "metadata": {},
   "outputs": [],
   "source": [
    "input_array = np.array([[26,1,37], [115,189,31.3], [31.3,29.6,103], [0.205,0,83], [41,36,2.2]])"
   ]
  },
  {
   "cell_type": "markdown",
   "metadata": {},
   "source": [
    "To make it more convenient, we will prepare the input data so that we can simply copy and paste the values in the serial dialog of our arduino ide. We can now simply copy and paste the values inbetween of the square brackets [ ]."
   ]
  },
  {
   "cell_type": "code",
   "execution_count": 33,
   "metadata": {},
   "outputs": [
    {
     "name": "stdout",
     "output_type": "stream",
     "text": [
      "[26.0, 1.0, 37.0, 115.0, 189.0, 31.3, 31.3, 29.6, 103.0, 0.205, 0.0, 83.0, 41.0, 36.0, 2.2]\n"
     ]
    }
   ],
   "source": [
    "print(input_array.flatten().tolist())"
   ]
  },
  {
   "cell_type": "markdown",
   "metadata": {},
   "source": [
    "In the next step we will perform the prediction with the trained network."
   ]
  },
  {
   "cell_type": "code",
   "execution_count": 34,
   "metadata": {},
   "outputs": [
    {
     "name": "stdout",
     "output_type": "stream",
     "text": [
      "[[[[189. ]\n",
      "   [189. ]]\n",
      "\n",
      "  [[189. ]\n",
      "   [189. ]]\n",
      "\n",
      "  [[ 31.3]\n",
      "   [103. ]]\n",
      "\n",
      "  [[ 41. ]\n",
      "   [ 83. ]]]]\n",
      "process time in microseconds: 93127\n"
     ]
    }
   ],
   "source": [
    "input = tf.reshape(input_array,[1,5,3,1])\n",
    "\n",
    "time_before = int(round(time.time_ns() / 1000))\n",
    "predictions = model.predict(input)\n",
    "time_after = int(round(time.time_ns() / 1000))\n",
    "print(predictions)\n",
    "print(\"process time in microseconds: \" + str(time_after - time_before))"
   ]
  },
  {
   "cell_type": "markdown",
   "metadata": {},
   "source": [
    "We can now compare the output of our trained model with the output of the neural network translator."
   ]
  },
  {
   "cell_type": "markdown",
   "metadata": {},
   "source": [
    "## 2 Layer Diabates"
   ]
  },
  {
   "cell_type": "code",
   "execution_count": 91,
   "metadata": {},
   "outputs": [],
   "source": [
    "dataset = np.loadtxt(\"diabetes.csv\", delimiter=\",\", skiprows=1 )\n",
    "diabetes_X = dataset[:,0:8]\n",
    "diabetes_Y = dataset[:,8]\n",
    "diabetes_X = scale(diabetes_X,axis=0)"
   ]
  },
  {
   "cell_type": "code",
   "execution_count": 92,
   "metadata": {},
   "outputs": [],
   "source": [
    "model = keras.Sequential()\n",
    "model.add(keras.layers.Dense(8, input_dim=8, activation='sigmoid'))\n",
    "model.add(keras.layers.Dense(1, activation='sigmoid'))"
   ]
  },
  {
   "cell_type": "code",
   "execution_count": 93,
   "metadata": {},
   "outputs": [],
   "source": [
    "model.compile(loss='binary_crossentropy', optimizer='adam', metrics=['accuracy'])"
   ]
  },
  {
   "cell_type": "code",
   "execution_count": 94,
   "metadata": {},
   "outputs": [
    {
     "name": "stdout",
     "output_type": "stream",
     "text": [
      "Train on 768 samples\n",
      "Epoch 1/300\n",
      "768/768 [==============================] - 1s 715us/sample - loss: 0.7537 - accuracy: 0.3581\n",
      "Epoch 2/300\n",
      "768/768 [==============================] - 0s 201us/sample - loss: 0.6585 - accuracy: 0.6081\n",
      "Epoch 3/300\n",
      "768/768 [==============================] - 0s 144us/sample - loss: 0.6032 - accuracy: 0.7734\n",
      "Epoch 4/300\n",
      "768/768 [==============================] - 0s 169us/sample - loss: 0.5709 - accuracy: 0.7643\n",
      "Epoch 5/300\n",
      "768/768 [==============================] - 0s 161us/sample - loss: 0.5510 - accuracy: 0.7604\n",
      "Epoch 6/300\n",
      "768/768 [==============================] - 0s 179us/sample - loss: 0.5372 - accuracy: 0.7591\n",
      "Epoch 7/300\n",
      "768/768 [==============================] - 0s 168us/sample - loss: 0.5265 - accuracy: 0.7604\n",
      "Epoch 8/300\n",
      "768/768 [==============================] - 0s 169us/sample - loss: 0.5177 - accuracy: 0.7682\n",
      "Epoch 9/300\n",
      "768/768 [==============================] - 0s 170us/sample - loss: 0.5102 - accuracy: 0.7682\n",
      "Epoch 10/300\n",
      "768/768 [==============================] - 0s 169us/sample - loss: 0.5039 - accuracy: 0.7669\n",
      "Epoch 11/300\n",
      "768/768 [==============================] - 0s 163us/sample - loss: 0.4982 - accuracy: 0.7682\n",
      "Epoch 12/300\n",
      "768/768 [==============================] - 0s 158us/sample - loss: 0.4936 - accuracy: 0.7708\n",
      "Epoch 13/300\n",
      "768/768 [==============================] - 0s 206us/sample - loss: 0.4897 - accuracy: 0.7682\n",
      "Epoch 14/300\n",
      "768/768 [==============================] - 0s 231us/sample - loss: 0.4860 - accuracy: 0.7708\n",
      "Epoch 15/300\n",
      "768/768 [==============================] - 0s 259us/sample - loss: 0.4829 - accuracy: 0.7734\n",
      "Epoch 16/300\n",
      "768/768 [==============================] - 0s 194us/sample - loss: 0.4804 - accuracy: 0.7695\n",
      "Epoch 17/300\n",
      "768/768 [==============================] - 0s 160us/sample - loss: 0.4779 - accuracy: 0.7734\n",
      "Epoch 18/300\n",
      "768/768 [==============================] - 0s 178us/sample - loss: 0.4761 - accuracy: 0.7773\n",
      "Epoch 19/300\n",
      "768/768 [==============================] - 0s 175us/sample - loss: 0.4744 - accuracy: 0.7773\n",
      "Epoch 20/300\n",
      "768/768 [==============================] - 0s 217us/sample - loss: 0.4728 - accuracy: 0.7786\n",
      "Epoch 21/300\n",
      "768/768 [==============================] - 0s 253us/sample - loss: 0.4716 - accuracy: 0.7773\n",
      "Epoch 22/300\n",
      "768/768 [==============================] - 0s 305us/sample - loss: 0.4705 - accuracy: 0.7773\n",
      "Epoch 23/300\n",
      "768/768 [==============================] - 0s 194us/sample - loss: 0.4696 - accuracy: 0.7747\n",
      "Epoch 24/300\n",
      "768/768 [==============================] - 0s 183us/sample - loss: 0.4690 - accuracy: 0.7760\n",
      "Epoch 25/300\n",
      "768/768 [==============================] - 0s 169us/sample - loss: 0.4682 - accuracy: 0.7773\n",
      "Epoch 26/300\n",
      "768/768 [==============================] - 0s 181us/sample - loss: 0.4674 - accuracy: 0.7760\n",
      "Epoch 27/300\n",
      "768/768 [==============================] - 0s 157us/sample - loss: 0.4669 - accuracy: 0.7760\n",
      "Epoch 28/300\n",
      "768/768 [==============================] - 0s 170us/sample - loss: 0.4663 - accuracy: 0.7799\n",
      "Epoch 29/300\n",
      "768/768 [==============================] - 0s 177us/sample - loss: 0.4658 - accuracy: 0.7812\n",
      "Epoch 30/300\n",
      "768/768 [==============================] - 0s 173us/sample - loss: 0.4654 - accuracy: 0.7826\n",
      "Epoch 31/300\n",
      "768/768 [==============================] - 0s 181us/sample - loss: 0.4651 - accuracy: 0.7826\n",
      "Epoch 32/300\n",
      "768/768 [==============================] - 0s 182us/sample - loss: 0.4646 - accuracy: 0.7812\n",
      "Epoch 33/300\n",
      "768/768 [==============================] - 0s 234us/sample - loss: 0.4643 - accuracy: 0.7812\n",
      "Epoch 34/300\n",
      "768/768 [==============================] - 0s 182us/sample - loss: 0.4640 - accuracy: 0.7812\n",
      "Epoch 35/300\n",
      "768/768 [==============================] - 0s 170us/sample - loss: 0.4637 - accuracy: 0.7799\n",
      "Epoch 36/300\n",
      "768/768 [==============================] - 0s 176us/sample - loss: 0.4635 - accuracy: 0.7786\n",
      "Epoch 37/300\n",
      "768/768 [==============================] - 0s 159us/sample - loss: 0.4631 - accuracy: 0.7812\n",
      "Epoch 38/300\n",
      "768/768 [==============================] - 0s 172us/sample - loss: 0.4631 - accuracy: 0.7812\n",
      "Epoch 39/300\n",
      "768/768 [==============================] - 0s 169us/sample - loss: 0.4626 - accuracy: 0.7812\n",
      "Epoch 40/300\n",
      "768/768 [==============================] - 0s 173us/sample - loss: 0.4622 - accuracy: 0.7826\n",
      "Epoch 41/300\n",
      "768/768 [==============================] - 0s 158us/sample - loss: 0.4620 - accuracy: 0.7799\n",
      "Epoch 42/300\n",
      "768/768 [==============================] - 0s 174us/sample - loss: 0.4620 - accuracy: 0.7812\n",
      "Epoch 43/300\n",
      "768/768 [==============================] - 0s 232us/sample - loss: 0.4616 - accuracy: 0.7786\n",
      "Epoch 44/300\n",
      "768/768 [==============================] - 0s 247us/sample - loss: 0.4615 - accuracy: 0.7799 - loss: 0.4359 - accuracy: \n",
      "Epoch 45/300\n",
      "768/768 [==============================] - 0s 197us/sample - loss: 0.4611 - accuracy: 0.7799\n",
      "Epoch 46/300\n",
      "768/768 [==============================] - 0s 220us/sample - loss: 0.4610 - accuracy: 0.7786\n",
      "Epoch 47/300\n",
      "768/768 [==============================] - 0s 220us/sample - loss: 0.4610 - accuracy: 0.7786\n",
      "Epoch 48/300\n",
      "768/768 [==============================] - 0s 178us/sample - loss: 0.4606 - accuracy: 0.7799\n",
      "Epoch 49/300\n",
      "768/768 [==============================] - 0s 157us/sample - loss: 0.4604 - accuracy: 0.7799\n",
      "Epoch 50/300\n",
      "768/768 [==============================] - 0s 184us/sample - loss: 0.4603 - accuracy: 0.7812\n",
      "Epoch 51/300\n",
      "768/768 [==============================] - 0s 179us/sample - loss: 0.4606 - accuracy: 0.7812\n",
      "Epoch 52/300\n",
      "768/768 [==============================] - 0s 208us/sample - loss: 0.4596 - accuracy: 0.7826\n",
      "Epoch 53/300\n",
      "768/768 [==============================] - 0s 238us/sample - loss: 0.4595 - accuracy: 0.7799\n",
      "Epoch 54/300\n",
      "768/768 [==============================] - 0s 181us/sample - loss: 0.4595 - accuracy: 0.7812\n",
      "Epoch 55/300\n",
      "768/768 [==============================] - 0s 153us/sample - loss: 0.4594 - accuracy: 0.7839\n",
      "Epoch 56/300\n",
      "768/768 [==============================] - 0s 130us/sample - loss: 0.4597 - accuracy: 0.7773\n",
      "Epoch 57/300\n",
      "768/768 [==============================] - 0s 149us/sample - loss: 0.4589 - accuracy: 0.7826\n",
      "Epoch 58/300\n",
      "768/768 [==============================] - 0s 134us/sample - loss: 0.4588 - accuracy: 0.7826\n",
      "Epoch 59/300\n",
      "768/768 [==============================] - 0s 130us/sample - loss: 0.4587 - accuracy: 0.7826\n",
      "Epoch 60/300\n",
      "768/768 [==============================] - 0s 138us/sample - loss: 0.4582 - accuracy: 0.7812\n",
      "Epoch 61/300\n",
      "768/768 [==============================] - 0s 136us/sample - loss: 0.4586 - accuracy: 0.7799\n",
      "Epoch 62/300\n",
      "768/768 [==============================] - 0s 140us/sample - loss: 0.4580 - accuracy: 0.7786\n",
      "Epoch 63/300\n",
      "768/768 [==============================] - 0s 141us/sample - loss: 0.4580 - accuracy: 0.7773\n",
      "Epoch 64/300\n",
      "768/768 [==============================] - 0s 148us/sample - loss: 0.4575 - accuracy: 0.7786\n",
      "Epoch 65/300\n",
      "768/768 [==============================] - 0s 138us/sample - loss: 0.4576 - accuracy: 0.7760\n",
      "Epoch 66/300\n",
      "768/768 [==============================] - 0s 207us/sample - loss: 0.4573 - accuracy: 0.7786\n",
      "Epoch 67/300\n",
      "768/768 [==============================] - 0s 183us/sample - loss: 0.4570 - accuracy: 0.7799\n",
      "Epoch 68/300\n",
      "768/768 [==============================] - 0s 169us/sample - loss: 0.4567 - accuracy: 0.7773\n",
      "Epoch 69/300\n",
      "768/768 [==============================] - 0s 184us/sample - loss: 0.4566 - accuracy: 0.7786\n",
      "Epoch 70/300\n",
      "768/768 [==============================] - 0s 157us/sample - loss: 0.4567 - accuracy: 0.7786\n",
      "Epoch 71/300\n",
      "768/768 [==============================] - 0s 169us/sample - loss: 0.4567 - accuracy: 0.7734\n",
      "Epoch 72/300\n",
      "768/768 [==============================] - 0s 197us/sample - loss: 0.4561 - accuracy: 0.7786\n",
      "Epoch 73/300\n",
      "768/768 [==============================] - 0s 196us/sample - loss: 0.4562 - accuracy: 0.7760\n",
      "Epoch 74/300\n",
      "768/768 [==============================] - 0s 143us/sample - loss: 0.4558 - accuracy: 0.7786\n",
      "Epoch 75/300\n",
      "768/768 [==============================] - 0s 141us/sample - loss: 0.4558 - accuracy: 0.7773\n",
      "Epoch 76/300\n",
      "768/768 [==============================] - 0s 131us/sample - loss: 0.4555 - accuracy: 0.7773\n",
      "Epoch 77/300\n"
     ]
    },
    {
     "name": "stdout",
     "output_type": "stream",
     "text": [
      "768/768 [==============================] - 0s 130us/sample - loss: 0.4553 - accuracy: 0.7773\n",
      "Epoch 78/300\n",
      "768/768 [==============================] - 0s 132us/sample - loss: 0.4552 - accuracy: 0.7747\n",
      "Epoch 79/300\n",
      "768/768 [==============================] - 0s 143us/sample - loss: 0.4552 - accuracy: 0.7773\n",
      "Epoch 80/300\n",
      "768/768 [==============================] - 0s 182us/sample - loss: 0.4548 - accuracy: 0.7773\n",
      "Epoch 81/300\n",
      "768/768 [==============================] - 0s 196us/sample - loss: 0.4546 - accuracy: 0.7747\n",
      "Epoch 82/300\n",
      "768/768 [==============================] - 0s 156us/sample - loss: 0.4546 - accuracy: 0.7760\n",
      "Epoch 83/300\n",
      "768/768 [==============================] - 0s 132us/sample - loss: 0.4544 - accuracy: 0.7747\n",
      "Epoch 84/300\n",
      "768/768 [==============================] - 0s 153us/sample - loss: 0.4540 - accuracy: 0.7734\n",
      "Epoch 85/300\n",
      "768/768 [==============================] - 0s 129us/sample - loss: 0.4544 - accuracy: 0.7773\n",
      "Epoch 86/300\n",
      "768/768 [==============================] - 0s 182us/sample - loss: 0.4537 - accuracy: 0.7734\n",
      "Epoch 87/300\n",
      "768/768 [==============================] - 0s 195us/sample - loss: 0.4537 - accuracy: 0.7747\n",
      "Epoch 88/300\n",
      "768/768 [==============================] - 0s 197us/sample - loss: 0.4534 - accuracy: 0.7721\n",
      "Epoch 89/300\n",
      "768/768 [==============================] - 0s 198us/sample - loss: 0.4531 - accuracy: 0.7747\n",
      "Epoch 90/300\n",
      "768/768 [==============================] - 0s 177us/sample - loss: 0.4531 - accuracy: 0.7734\n",
      "Epoch 91/300\n",
      "768/768 [==============================] - 0s 167us/sample - loss: 0.4528 - accuracy: 0.7695\n",
      "Epoch 92/300\n",
      "768/768 [==============================] - 0s 130us/sample - loss: 0.4528 - accuracy: 0.7734\n",
      "Epoch 93/300\n",
      "768/768 [==============================] - 0s 130us/sample - loss: 0.4525 - accuracy: 0.7734\n",
      "Epoch 94/300\n",
      "768/768 [==============================] - 0s 181us/sample - loss: 0.4522 - accuracy: 0.7721\n",
      "Epoch 95/300\n",
      "768/768 [==============================] - 0s 180us/sample - loss: 0.4520 - accuracy: 0.7708\n",
      "Epoch 96/300\n",
      "768/768 [==============================] - 0s 133us/sample - loss: 0.4521 - accuracy: 0.7695\n",
      "Epoch 97/300\n",
      "768/768 [==============================] - 0s 144us/sample - loss: 0.4517 - accuracy: 0.7721\n",
      "Epoch 98/300\n",
      "768/768 [==============================] - 0s 156us/sample - loss: 0.4517 - accuracy: 0.7721\n",
      "Epoch 99/300\n",
      "768/768 [==============================] - 0s 129us/sample - loss: 0.4517 - accuracy: 0.7708\n",
      "Epoch 100/300\n",
      "768/768 [==============================] - 0s 209us/sample - loss: 0.4513 - accuracy: 0.7734\n",
      "Epoch 101/300\n",
      "768/768 [==============================] - 0s 198us/sample - loss: 0.4510 - accuracy: 0.7734\n",
      "Epoch 102/300\n",
      "768/768 [==============================] - 0s 165us/sample - loss: 0.4509 - accuracy: 0.7747\n",
      "Epoch 103/300\n",
      "768/768 [==============================] - 0s 130us/sample - loss: 0.4510 - accuracy: 0.7734\n",
      "Epoch 104/300\n",
      "768/768 [==============================] - 0s 130us/sample - loss: 0.4505 - accuracy: 0.7747\n",
      "Epoch 105/300\n",
      "768/768 [==============================] - 0s 143us/sample - loss: 0.4504 - accuracy: 0.7747\n",
      "Epoch 106/300\n",
      "768/768 [==============================] - 0s 169us/sample - loss: 0.4504 - accuracy: 0.7747\n",
      "Epoch 107/300\n",
      "768/768 [==============================] - 0s 252us/sample - loss: 0.4505 - accuracy: 0.7721\n",
      "Epoch 108/300\n",
      "768/768 [==============================] - 0s 190us/sample - loss: 0.4500 - accuracy: 0.7734\n",
      "Epoch 109/300\n",
      "768/768 [==============================] - 0s 144us/sample - loss: 0.4497 - accuracy: 0.7747\n",
      "Epoch 110/300\n",
      "768/768 [==============================] - 0s 130us/sample - loss: 0.4498 - accuracy: 0.7786\n",
      "Epoch 111/300\n",
      "768/768 [==============================] - 0s 131us/sample - loss: 0.4498 - accuracy: 0.7734\n",
      "Epoch 112/300\n",
      "768/768 [==============================] - 0s 141us/sample - loss: 0.4493 - accuracy: 0.7760\n",
      "Epoch 113/300\n",
      "768/768 [==============================] - 0s 190us/sample - loss: 0.4491 - accuracy: 0.7747\n",
      "Epoch 114/300\n",
      "768/768 [==============================] - 0s 208us/sample - loss: 0.4491 - accuracy: 0.7773\n",
      "Epoch 115/300\n",
      "768/768 [==============================] - 0s 182us/sample - loss: 0.4488 - accuracy: 0.7786\n",
      "Epoch 116/300\n",
      "768/768 [==============================] - 0s 130us/sample - loss: 0.4490 - accuracy: 0.7760\n",
      "Epoch 117/300\n",
      "768/768 [==============================] - 0s 130us/sample - loss: 0.4484 - accuracy: 0.7786\n",
      "Epoch 118/300\n",
      "768/768 [==============================] - 0s 142us/sample - loss: 0.4487 - accuracy: 0.7773\n",
      "Epoch 119/300\n",
      "768/768 [==============================] - 0s 130us/sample - loss: 0.4484 - accuracy: 0.7773\n",
      "Epoch 120/300\n",
      "768/768 [==============================] - 0s 130us/sample - loss: 0.4482 - accuracy: 0.7799\n",
      "Epoch 121/300\n",
      "768/768 [==============================] - 0s 130us/sample - loss: 0.4481 - accuracy: 0.7773\n",
      "Epoch 122/300\n",
      "768/768 [==============================] - 0s 125us/sample - loss: 0.4484 - accuracy: 0.7786\n",
      "Epoch 123/300\n",
      "768/768 [==============================] - 0s 144us/sample - loss: 0.4476 - accuracy: 0.7799\n",
      "Epoch 124/300\n",
      "768/768 [==============================] - 0s 130us/sample - loss: 0.4477 - accuracy: 0.7799\n",
      "Epoch 125/300\n",
      "768/768 [==============================] - 0s 169us/sample - loss: 0.4476 - accuracy: 0.7786\n",
      "Epoch 126/300\n",
      "768/768 [==============================] - 0s 189us/sample - loss: 0.4475 - accuracy: 0.7799\n",
      "Epoch 127/300\n",
      "768/768 [==============================] - 0s 203us/sample - loss: 0.4476 - accuracy: 0.7786\n",
      "Epoch 128/300\n",
      "768/768 [==============================] - 0s 200us/sample - loss: 0.4471 - accuracy: 0.7786\n",
      "Epoch 129/300\n",
      "768/768 [==============================] - 0s 178us/sample - loss: 0.4471 - accuracy: 0.7812\n",
      "Epoch 130/300\n",
      "768/768 [==============================] - 0s 144us/sample - loss: 0.4468 - accuracy: 0.7786\n",
      "Epoch 131/300\n",
      "768/768 [==============================] - 0s 143us/sample - loss: 0.4466 - accuracy: 0.7799\n",
      "Epoch 132/300\n",
      "768/768 [==============================] - 0s 158us/sample - loss: 0.4466 - accuracy: 0.7799\n",
      "Epoch 133/300\n",
      "768/768 [==============================] - 0s 205us/sample - loss: 0.4465 - accuracy: 0.7799\n",
      "Epoch 134/300\n",
      "768/768 [==============================] - 0s 182us/sample - loss: 0.4465 - accuracy: 0.7786\n",
      "Epoch 135/300\n",
      "768/768 [==============================] - 0s 169us/sample - loss: 0.4463 - accuracy: 0.7799\n",
      "Epoch 136/300\n",
      "768/768 [==============================] - 0s 137us/sample - loss: 0.4466 - accuracy: 0.7812\n",
      "Epoch 137/300\n",
      "768/768 [==============================] - 0s 137us/sample - loss: 0.4460 - accuracy: 0.7826\n",
      "Epoch 138/300\n",
      "768/768 [==============================] - 0s 132us/sample - loss: 0.4459 - accuracy: 0.7839\n",
      "Epoch 139/300\n",
      "768/768 [==============================] - 0s 142us/sample - loss: 0.4459 - accuracy: 0.7799\n",
      "Epoch 140/300\n",
      "768/768 [==============================] - 0s 133us/sample - loss: 0.4458 - accuracy: 0.7812\n",
      "Epoch 141/300\n",
      "768/768 [==============================] - 0s 132us/sample - loss: 0.4457 - accuracy: 0.7812\n",
      "Epoch 142/300\n",
      "768/768 [==============================] - 0s 142us/sample - loss: 0.4457 - accuracy: 0.7786\n",
      "Epoch 143/300\n",
      "768/768 [==============================] - 0s 147us/sample - loss: 0.4456 - accuracy: 0.7812\n",
      "Epoch 144/300\n",
      "768/768 [==============================] - 0s 137us/sample - loss: 0.4454 - accuracy: 0.7839\n",
      "Epoch 145/300\n",
      "768/768 [==============================] - 0s 130us/sample - loss: 0.4452 - accuracy: 0.7839\n",
      "Epoch 146/300\n",
      "768/768 [==============================] - 0s 131us/sample - loss: 0.4451 - accuracy: 0.7852\n",
      "Epoch 147/300\n",
      "768/768 [==============================] - 0s 148us/sample - loss: 0.4450 - accuracy: 0.7812\n",
      "Epoch 148/300\n",
      "768/768 [==============================] - 0s 134us/sample - loss: 0.4450 - accuracy: 0.7839\n",
      "Epoch 149/300\n",
      "768/768 [==============================] - 0s 149us/sample - loss: 0.4447 - accuracy: 0.7826\n",
      "Epoch 150/300\n",
      "768/768 [==============================] - 0s 217us/sample - loss: 0.4446 - accuracy: 0.7839\n",
      "Epoch 151/300\n",
      "768/768 [==============================] - 0s 209us/sample - loss: 0.4447 - accuracy: 0.7865\n",
      "Epoch 152/300\n",
      "768/768 [==============================] - 0s 142us/sample - loss: 0.4447 - accuracy: 0.7839\n",
      "Epoch 153/300\n"
     ]
    },
    {
     "name": "stdout",
     "output_type": "stream",
     "text": [
      "768/768 [==============================] - 0s 148us/sample - loss: 0.4445 - accuracy: 0.7839\n",
      "Epoch 154/300\n",
      "768/768 [==============================] - 0s 125us/sample - loss: 0.4443 - accuracy: 0.7852\n",
      "Epoch 155/300\n",
      "768/768 [==============================] - 0s 132us/sample - loss: 0.4444 - accuracy: 0.7826\n",
      "Epoch 156/300\n",
      "768/768 [==============================] - 0s 130us/sample - loss: 0.4441 - accuracy: 0.7839\n",
      "Epoch 157/300\n",
      "768/768 [==============================] - 0s 169us/sample - loss: 0.4443 - accuracy: 0.7826\n",
      "Epoch 158/300\n",
      "768/768 [==============================] - 0s 221us/sample - loss: 0.4441 - accuracy: 0.7865\n",
      "Epoch 159/300\n",
      "768/768 [==============================] - 0s 177us/sample - loss: 0.4437 - accuracy: 0.7852\n",
      "Epoch 160/300\n",
      "768/768 [==============================] - 0s 131us/sample - loss: 0.4440 - accuracy: 0.7878\n",
      "Epoch 161/300\n",
      "768/768 [==============================] - 0s 136us/sample - loss: 0.4439 - accuracy: 0.7826\n",
      "Epoch 162/300\n",
      "768/768 [==============================] - 0s 190us/sample - loss: 0.4437 - accuracy: 0.7839\n",
      "Epoch 163/300\n",
      "768/768 [==============================] - 0s 182us/sample - loss: 0.4436 - accuracy: 0.7852\n",
      "Epoch 164/300\n",
      "768/768 [==============================] - 0s 144us/sample - loss: 0.4436 - accuracy: 0.7852\n",
      "Epoch 165/300\n",
      "768/768 [==============================] - 0s 161us/sample - loss: 0.4433 - accuracy: 0.7878\n",
      "Epoch 166/300\n",
      "768/768 [==============================] - 0s 157us/sample - loss: 0.4432 - accuracy: 0.7852\n",
      "Epoch 167/300\n",
      "768/768 [==============================] - 0s 144us/sample - loss: 0.4433 - accuracy: 0.7865\n",
      "Epoch 168/300\n",
      "768/768 [==============================] - 0s 157us/sample - loss: 0.4431 - accuracy: 0.7865\n",
      "Epoch 169/300\n",
      "768/768 [==============================] - 0s 143us/sample - loss: 0.4431 - accuracy: 0.7826\n",
      "Epoch 170/300\n",
      "768/768 [==============================] - 0s 138us/sample - loss: 0.4429 - accuracy: 0.7865\n",
      "Epoch 171/300\n",
      "768/768 [==============================] - 0s 156us/sample - loss: 0.4429 - accuracy: 0.7852\n",
      "Epoch 172/300\n",
      "768/768 [==============================] - 0s 143us/sample - loss: 0.4429 - accuracy: 0.7865\n",
      "Epoch 173/300\n",
      "768/768 [==============================] - 0s 143us/sample - loss: 0.4427 - accuracy: 0.7852\n",
      "Epoch 174/300\n",
      "768/768 [==============================] - 0s 170us/sample - loss: 0.4428 - accuracy: 0.7865\n",
      "Epoch 175/300\n",
      "768/768 [==============================] - 0s 195us/sample - loss: 0.4426 - accuracy: 0.7852\n",
      "Epoch 176/300\n",
      "768/768 [==============================] - 0s 261us/sample - loss: 0.4426 - accuracy: 0.7891\n",
      "Epoch 177/300\n",
      "768/768 [==============================] - 0s 220us/sample - loss: 0.4429 - accuracy: 0.7839\n",
      "Epoch 178/300\n",
      "768/768 [==============================] - 0s 161us/sample - loss: 0.4421 - accuracy: 0.7852\n",
      "Epoch 179/300\n",
      "768/768 [==============================] - 0s 139us/sample - loss: 0.4424 - accuracy: 0.7865\n",
      "Epoch 180/300\n",
      "768/768 [==============================] - 0s 143us/sample - loss: 0.4422 - accuracy: 0.7865\n",
      "Epoch 181/300\n",
      "768/768 [==============================] - 0s 156us/sample - loss: 0.4420 - accuracy: 0.7878\n",
      "Epoch 182/300\n",
      "768/768 [==============================] - 0s 156us/sample - loss: 0.4419 - accuracy: 0.7865\n",
      "Epoch 183/300\n",
      "768/768 [==============================] - 0s 156us/sample - loss: 0.4421 - accuracy: 0.7878\n",
      "Epoch 184/300\n",
      "768/768 [==============================] - 0s 156us/sample - loss: 0.4420 - accuracy: 0.7852\n",
      "Epoch 185/300\n",
      "768/768 [==============================] - 0s 144us/sample - loss: 0.4421 - accuracy: 0.7891\n",
      "Epoch 186/300\n",
      "768/768 [==============================] - 0s 143us/sample - loss: 0.4419 - accuracy: 0.7904\n",
      "Epoch 187/300\n",
      "768/768 [==============================] - 0s 137us/sample - loss: 0.4416 - accuracy: 0.7878\n",
      "Epoch 188/300\n",
      "768/768 [==============================] - 0s 131us/sample - loss: 0.4416 - accuracy: 0.7865\n",
      "Epoch 189/300\n",
      "768/768 [==============================] - 0s 155us/sample - loss: 0.4417 - accuracy: 0.7904\n",
      "Epoch 190/300\n",
      "768/768 [==============================] - 0s 156us/sample - loss: 0.4415 - accuracy: 0.7865\n",
      "Epoch 191/300\n",
      "768/768 [==============================] - 0s 149us/sample - loss: 0.4413 - accuracy: 0.7878\n",
      "Epoch 192/300\n",
      "768/768 [==============================] - 0s 130us/sample - loss: 0.4412 - accuracy: 0.7878\n",
      "Epoch 193/300\n",
      "768/768 [==============================] - 0s 148us/sample - loss: 0.4411 - accuracy: 0.7878\n",
      "Epoch 194/300\n",
      "768/768 [==============================] - 0s 165us/sample - loss: 0.4411 - accuracy: 0.7865\n",
      "Epoch 195/300\n",
      "768/768 [==============================] - 0s 182us/sample - loss: 0.4411 - accuracy: 0.7878\n",
      "Epoch 196/300\n",
      "768/768 [==============================] - 0s 156us/sample - loss: 0.4410 - accuracy: 0.7878\n",
      "Epoch 197/300\n",
      "768/768 [==============================] - 0s 158us/sample - loss: 0.4409 - accuracy: 0.7878\n",
      "Epoch 198/300\n",
      "768/768 [==============================] - 0s 181us/sample - loss: 0.4411 - accuracy: 0.7852\n",
      "Epoch 199/300\n",
      "768/768 [==============================] - 0s 156us/sample - loss: 0.4411 - accuracy: 0.7891\n",
      "Epoch 200/300\n",
      "768/768 [==============================] - 0s 182us/sample - loss: 0.4409 - accuracy: 0.7891\n",
      "Epoch 201/300\n",
      "768/768 [==============================] - 0s 169us/sample - loss: 0.4406 - accuracy: 0.7878\n",
      "Epoch 202/300\n",
      "768/768 [==============================] - 0s 145us/sample - loss: 0.4405 - accuracy: 0.7878\n",
      "Epoch 203/300\n",
      "768/768 [==============================] - 0s 157us/sample - loss: 0.4405 - accuracy: 0.7878\n",
      "Epoch 204/300\n",
      "768/768 [==============================] - 0s 169us/sample - loss: 0.4404 - accuracy: 0.7878\n",
      "Epoch 205/300\n",
      "768/768 [==============================] - 0s 181us/sample - loss: 0.4404 - accuracy: 0.7878\n",
      "Epoch 206/300\n",
      "768/768 [==============================] - 0s 176us/sample - loss: 0.4405 - accuracy: 0.7917\n",
      "Epoch 207/300\n",
      "768/768 [==============================] - 0s 170us/sample - loss: 0.4404 - accuracy: 0.7878\n",
      "Epoch 208/300\n",
      "768/768 [==============================] - 0s 160us/sample - loss: 0.4401 - accuracy: 0.7891\n",
      "Epoch 209/300\n",
      "768/768 [==============================] - 0s 144us/sample - loss: 0.4402 - accuracy: 0.7878\n",
      "Epoch 210/300\n",
      "768/768 [==============================] - 0s 169us/sample - loss: 0.4401 - accuracy: 0.7878\n",
      "Epoch 211/300\n",
      "768/768 [==============================] - 0s 156us/sample - loss: 0.4402 - accuracy: 0.7891\n",
      "Epoch 212/300\n",
      "768/768 [==============================] - 0s 169us/sample - loss: 0.4400 - accuracy: 0.7878\n",
      "Epoch 213/300\n",
      "768/768 [==============================] - 0s 171us/sample - loss: 0.4399 - accuracy: 0.7917\n",
      "Epoch 214/300\n",
      "768/768 [==============================] - 0s 168us/sample - loss: 0.4396 - accuracy: 0.7891\n",
      "Epoch 215/300\n",
      "768/768 [==============================] - 0s 182us/sample - loss: 0.4398 - accuracy: 0.7878\n",
      "Epoch 216/300\n",
      "768/768 [==============================] - 0s 155us/sample - loss: 0.4397 - accuracy: 0.7878\n",
      "Epoch 217/300\n",
      "768/768 [==============================] - 0s 169us/sample - loss: 0.4395 - accuracy: 0.7904\n",
      "Epoch 218/300\n",
      "768/768 [==============================] - 0s 156us/sample - loss: 0.4395 - accuracy: 0.7917\n",
      "Epoch 219/300\n",
      "768/768 [==============================] - 0s 188us/sample - loss: 0.4395 - accuracy: 0.7917\n",
      "Epoch 220/300\n",
      "768/768 [==============================] - 0s 177us/sample - loss: 0.4396 - accuracy: 0.7904\n",
      "Epoch 221/300\n",
      "768/768 [==============================] - 0s 171us/sample - loss: 0.4393 - accuracy: 0.7891\n",
      "Epoch 222/300\n",
      "768/768 [==============================] - 0s 166us/sample - loss: 0.4393 - accuracy: 0.7904\n",
      "Epoch 223/300\n",
      "768/768 [==============================] - 0s 169us/sample - loss: 0.4392 - accuracy: 0.7917\n",
      "Epoch 224/300\n",
      "768/768 [==============================] - 0s 182us/sample - loss: 0.4392 - accuracy: 0.7891\n",
      "Epoch 225/300\n",
      "768/768 [==============================] - 0s 156us/sample - loss: 0.4392 - accuracy: 0.7904\n",
      "Epoch 226/300\n",
      "768/768 [==============================] - 0s 170us/sample - loss: 0.4390 - accuracy: 0.7904\n",
      "Epoch 227/300\n",
      "768/768 [==============================] - 0s 195us/sample - loss: 0.4391 - accuracy: 0.7904\n",
      "Epoch 228/300\n",
      "768/768 [==============================] - 0s 169us/sample - loss: 0.4391 - accuracy: 0.7917\n",
      "Epoch 229/300\n"
     ]
    },
    {
     "name": "stdout",
     "output_type": "stream",
     "text": [
      "768/768 [==============================] - 0s 188us/sample - loss: 0.4387 - accuracy: 0.7904\n",
      "Epoch 230/300\n",
      "768/768 [==============================] - 0s 138us/sample - loss: 0.4389 - accuracy: 0.7904\n",
      "Epoch 231/300\n",
      "768/768 [==============================] - 0s 131us/sample - loss: 0.4387 - accuracy: 0.7904\n",
      "Epoch 232/300\n",
      "768/768 [==============================] - 0s 130us/sample - loss: 0.4388 - accuracy: 0.7917\n",
      "Epoch 233/300\n",
      "768/768 [==============================] - 0s 130us/sample - loss: 0.4386 - accuracy: 0.7891\n",
      "Epoch 234/300\n",
      "768/768 [==============================] - 0s 130us/sample - loss: 0.4385 - accuracy: 0.7904\n",
      "Epoch 235/300\n",
      "768/768 [==============================] - 0s 130us/sample - loss: 0.4384 - accuracy: 0.7904\n",
      "Epoch 236/300\n",
      "768/768 [==============================] - 0s 131us/sample - loss: 0.4384 - accuracy: 0.7891\n",
      "Epoch 237/300\n",
      "768/768 [==============================] - 0s 142us/sample - loss: 0.4384 - accuracy: 0.7891\n",
      "Epoch 238/300\n",
      "768/768 [==============================] - 0s 144us/sample - loss: 0.4385 - accuracy: 0.7891\n",
      "Epoch 239/300\n",
      "768/768 [==============================] - 0s 201us/sample - loss: 0.4383 - accuracy: 0.7904\n",
      "Epoch 240/300\n",
      "768/768 [==============================] - 0s 169us/sample - loss: 0.4383 - accuracy: 0.7904\n",
      "Epoch 241/300\n",
      "768/768 [==============================] - 0s 126us/sample - loss: 0.4382 - accuracy: 0.7904\n",
      "Epoch 242/300\n",
      "768/768 [==============================] - 0s 119us/sample - loss: 0.4382 - accuracy: 0.7904\n",
      "Epoch 243/300\n",
      "768/768 [==============================] - 0s 201us/sample - loss: 0.4382 - accuracy: 0.7930\n",
      "Epoch 244/300\n",
      "768/768 [==============================] - 0s 201us/sample - loss: 0.4378 - accuracy: 0.7917\n",
      "Epoch 245/300\n",
      "768/768 [==============================] - 0s 190us/sample - loss: 0.4378 - accuracy: 0.7904\n",
      "Epoch 246/300\n",
      "768/768 [==============================] - 0s 139us/sample - loss: 0.4379 - accuracy: 0.7917\n",
      "Epoch 247/300\n",
      "768/768 [==============================] - 0s 144us/sample - loss: 0.4377 - accuracy: 0.7904\n",
      "Epoch 248/300\n",
      "768/768 [==============================] - 0s 141us/sample - loss: 0.4378 - accuracy: 0.7904\n",
      "Epoch 249/300\n",
      "768/768 [==============================] - 0s 144us/sample - loss: 0.4379 - accuracy: 0.7904\n",
      "Epoch 250/300\n",
      "768/768 [==============================] - 0s 154us/sample - loss: 0.4377 - accuracy: 0.7917\n",
      "Epoch 251/300\n",
      "768/768 [==============================] - 0s 131us/sample - loss: 0.4375 - accuracy: 0.7904\n",
      "Epoch 252/300\n",
      "768/768 [==============================] - 0s 143us/sample - loss: 0.4375 - accuracy: 0.7930\n",
      "Epoch 253/300\n",
      "768/768 [==============================] - 0s 156us/sample - loss: 0.4375 - accuracy: 0.7917\n",
      "Epoch 254/300\n",
      "768/768 [==============================] - 0s 174us/sample - loss: 0.4375 - accuracy: 0.7904\n",
      "Epoch 255/300\n",
      "768/768 [==============================] - 0s 136us/sample - loss: 0.4376 - accuracy: 0.7917\n",
      "Epoch 256/300\n",
      "768/768 [==============================] - 0s 196us/sample - loss: 0.4377 - accuracy: 0.7917\n",
      "Epoch 257/300\n",
      "768/768 [==============================] - 0s 260us/sample - loss: 0.4371 - accuracy: 0.7917\n",
      "Epoch 258/300\n",
      "768/768 [==============================] - 0s 226us/sample - loss: 0.4371 - accuracy: 0.7930\n",
      "Epoch 259/300\n",
      "768/768 [==============================] - 0s 170us/sample - loss: 0.4371 - accuracy: 0.7917\n",
      "Epoch 260/300\n",
      "768/768 [==============================] - 0s 164us/sample - loss: 0.4371 - accuracy: 0.7930\n",
      "Epoch 261/300\n",
      "768/768 [==============================] - 0s 178us/sample - loss: 0.4373 - accuracy: 0.7878\n",
      "Epoch 262/300\n",
      "768/768 [==============================] - 0s 143us/sample - loss: 0.4371 - accuracy: 0.7891\n",
      "Epoch 263/300\n",
      "768/768 [==============================] - 0s 174us/sample - loss: 0.4370 - accuracy: 0.7917\n",
      "Epoch 264/300\n",
      "768/768 [==============================] - 0s 164us/sample - loss: 0.4372 - accuracy: 0.7930\n",
      "Epoch 265/300\n",
      "768/768 [==============================] - 0s 156us/sample - loss: 0.4368 - accuracy: 0.7917\n",
      "Epoch 266/300\n",
      "768/768 [==============================] - 0s 196us/sample - loss: 0.4370 - accuracy: 0.7917\n",
      "Epoch 267/300\n",
      "768/768 [==============================] - 0s 170us/sample - loss: 0.4367 - accuracy: 0.7917\n",
      "Epoch 268/300\n",
      "768/768 [==============================] - 0s 232us/sample - loss: 0.4367 - accuracy: 0.7930\n",
      "Epoch 269/300\n",
      "768/768 [==============================] - 0s 183us/sample - loss: 0.4367 - accuracy: 0.7917\n",
      "Epoch 270/300\n",
      "768/768 [==============================] - 0s 194us/sample - loss: 0.4366 - accuracy: 0.7917\n",
      "Epoch 271/300\n",
      "768/768 [==============================] - 0s 183us/sample - loss: 0.4364 - accuracy: 0.7917\n",
      "Epoch 272/300\n",
      "768/768 [==============================] - 0s 196us/sample - loss: 0.4367 - accuracy: 0.7917\n",
      "Epoch 273/300\n",
      "768/768 [==============================] - 0s 200us/sample - loss: 0.4365 - accuracy: 0.7917\n",
      "Epoch 274/300\n",
      "768/768 [==============================] - 0s 170us/sample - loss: 0.4364 - accuracy: 0.7917\n",
      "Epoch 275/300\n",
      "768/768 [==============================] - 0s 203us/sample - loss: 0.4363 - accuracy: 0.7930\n",
      "Epoch 276/300\n",
      "768/768 [==============================] - 0s 175us/sample - loss: 0.4364 - accuracy: 0.7917\n",
      "Epoch 277/300\n",
      "768/768 [==============================] - 0s 196us/sample - loss: 0.4363 - accuracy: 0.7904\n",
      "Epoch 278/300\n",
      "768/768 [==============================] - 0s 174us/sample - loss: 0.4362 - accuracy: 0.7930\n",
      "Epoch 279/300\n",
      "768/768 [==============================] - 0s 209us/sample - loss: 0.4362 - accuracy: 0.7930\n",
      "Epoch 280/300\n",
      "768/768 [==============================] - 0s 151us/sample - loss: 0.4360 - accuracy: 0.7930\n",
      "Epoch 281/300\n",
      "768/768 [==============================] - 0s 156us/sample - loss: 0.4360 - accuracy: 0.7930\n",
      "Epoch 282/300\n",
      "768/768 [==============================] - 0s 172us/sample - loss: 0.4361 - accuracy: 0.7930\n",
      "Epoch 283/300\n",
      "768/768 [==============================] - 0s 169us/sample - loss: 0.4359 - accuracy: 0.7930\n",
      "Epoch 284/300\n",
      "768/768 [==============================] - 0s 182us/sample - loss: 0.4359 - accuracy: 0.7917\n",
      "Epoch 285/300\n",
      "768/768 [==============================] - 0s 159us/sample - loss: 0.4366 - accuracy: 0.7904\n",
      "Epoch 286/300\n",
      "768/768 [==============================] - 0s 169us/sample - loss: 0.4356 - accuracy: 0.7917\n",
      "Epoch 287/300\n",
      "768/768 [==============================] - 0s 161us/sample - loss: 0.4358 - accuracy: 0.7917\n",
      "Epoch 288/300\n",
      "768/768 [==============================] - 0s 156us/sample - loss: 0.4357 - accuracy: 0.7917\n",
      "Epoch 289/300\n",
      "768/768 [==============================] - 0s 175us/sample - loss: 0.4357 - accuracy: 0.7930\n",
      "Epoch 290/300\n",
      "768/768 [==============================] - 0s 214us/sample - loss: 0.4357 - accuracy: 0.7904\n",
      "Epoch 291/300\n",
      "768/768 [==============================] - 0s 194us/sample - loss: 0.4357 - accuracy: 0.7930\n",
      "Epoch 292/300\n",
      "768/768 [==============================] - 0s 222us/sample - loss: 0.4357 - accuracy: 0.7930\n",
      "Epoch 293/300\n",
      "768/768 [==============================] - 0s 195us/sample - loss: 0.4353 - accuracy: 0.7943\n",
      "Epoch 294/300\n",
      "768/768 [==============================] - 0s 157us/sample - loss: 0.4353 - accuracy: 0.7943\n",
      "Epoch 295/300\n",
      "768/768 [==============================] - 0s 178us/sample - loss: 0.4355 - accuracy: 0.7917\n",
      "Epoch 296/300\n",
      "768/768 [==============================] - 0s 151us/sample - loss: 0.4353 - accuracy: 0.7930\n",
      "Epoch 297/300\n",
      "768/768 [==============================] - 0s 194us/sample - loss: 0.4353 - accuracy: 0.7943\n",
      "Epoch 298/300\n",
      "768/768 [==============================] - 0s 156us/sample - loss: 0.4354 - accuracy: 0.7930\n",
      "Epoch 299/300\n",
      "768/768 [==============================] - 0s 182us/sample - loss: 0.4354 - accuracy: 0.7930\n",
      "Epoch 300/300\n",
      "768/768 [==============================] - 0s 170us/sample - loss: 0.4353 - accuracy: 0.7943\n"
     ]
    },
    {
     "data": {
      "text/plain": [
       "<tensorflow.python.keras.callbacks.History at 0x1e1396254a8>"
      ]
     },
     "execution_count": 94,
     "metadata": {},
     "output_type": "execute_result"
    }
   ],
   "source": [
    "model.fit(diabetes_X, diabetes_Y, epochs=300, batch_size=10)"
   ]
  },
  {
   "cell_type": "code",
   "execution_count": 95,
   "metadata": {},
   "outputs": [],
   "source": [
    "model.save('out/2_layer_diabetes.h5')"
   ]
  },
  {
   "cell_type": "code",
   "execution_count": 96,
   "metadata": {},
   "outputs": [
    {
     "name": "stdout",
     "output_type": "stream",
     "text": [
      "[6.0, 148.0, 72.0, 35.0, 0.0, 33.6, 0.627, 50.0]\n",
      "[[0.97037137]]\n",
      "process time in microseconds: 120354\n"
     ]
    }
   ],
   "source": [
    "input_array = dataset[0][0:8]\n",
    "input = tf.reshape(input_array,[1,8])\n",
    "print(np.array(input[0]).flatten().tolist())\n",
    "time_before = int(round(time.time_ns() / 1000))\n",
    "predictions = model.predict(input)\n",
    "time_after = int(round(time.time_ns() / 1000))\n",
    "print(predictions)\n",
    "print(\"process time in microseconds: \" + str(time_after - time_before))"
   ]
  },
  {
   "cell_type": "markdown",
   "metadata": {},
   "source": [
    "## 3 Layer diabates"
   ]
  },
  {
   "cell_type": "code",
   "execution_count": 55,
   "metadata": {},
   "outputs": [],
   "source": [
    "dataset = np.loadtxt(\"diabetes.csv\", delimiter=\",\", skiprows=1 )"
   ]
  },
  {
   "cell_type": "code",
   "execution_count": 56,
   "metadata": {},
   "outputs": [
    {
     "name": "stdout",
     "output_type": "stream",
     "text": [
      "Train on 768 samples\n",
      "Epoch 1/300\n",
      "768/768 [==============================] - 1s 860us/sample - loss: 0.6706 - accuracy: 0.6536\n",
      "Epoch 2/300\n",
      "768/768 [==============================] - 0s 194us/sample - loss: 0.6036 - accuracy: 0.7018\n",
      "Epoch 3/300\n",
      "768/768 [==============================] - 0s 182us/sample - loss: 0.5406 - accuracy: 0.7383\n",
      "Epoch 4/300\n",
      "768/768 [==============================] - 0s 187us/sample - loss: 0.5039 - accuracy: 0.7539\n",
      "Epoch 5/300\n",
      "768/768 [==============================] - 0s 171us/sample - loss: 0.4837 - accuracy: 0.7578\n",
      "Epoch 6/300\n",
      "768/768 [==============================] - 0s 200us/sample - loss: 0.4719 - accuracy: 0.7708\n",
      "Epoch 7/300\n",
      "768/768 [==============================] - 0s 208us/sample - loss: 0.4623 - accuracy: 0.7773\n",
      "Epoch 8/300\n",
      "768/768 [==============================] - 0s 151us/sample - loss: 0.4545 - accuracy: 0.7773\n",
      "Epoch 9/300\n",
      "768/768 [==============================] - 0s 169us/sample - loss: 0.4493 - accuracy: 0.7799\n",
      "Epoch 10/300\n",
      "768/768 [==============================] - 0s 154us/sample - loss: 0.4458 - accuracy: 0.7865\n",
      "Epoch 11/300\n",
      "768/768 [==============================] - 0s 169us/sample - loss: 0.4431 - accuracy: 0.7839\n",
      "Epoch 12/300\n",
      "768/768 [==============================] - 0s 156us/sample - loss: 0.4404 - accuracy: 0.7878\n",
      "Epoch 13/300\n",
      "768/768 [==============================] - 0s 143us/sample - loss: 0.4389 - accuracy: 0.7904\n",
      "Epoch 14/300\n",
      "768/768 [==============================] - 0s 145us/sample - loss: 0.4377 - accuracy: 0.7917\n",
      "Epoch 15/300\n",
      "768/768 [==============================] - 0s 161us/sample - loss: 0.4358 - accuracy: 0.7995\n",
      "Epoch 16/300\n",
      "768/768 [==============================] - 0s 158us/sample - loss: 0.4353 - accuracy: 0.7956\n",
      "Epoch 17/300\n",
      "768/768 [==============================] - 0s 161us/sample - loss: 0.4337 - accuracy: 0.7943\n",
      "Epoch 18/300\n",
      "768/768 [==============================] - 0s 156us/sample - loss: 0.4322 - accuracy: 0.7904\n",
      "Epoch 19/300\n",
      "768/768 [==============================] - 0s 157us/sample - loss: 0.4311 - accuracy: 0.7930\n",
      "Epoch 20/300\n",
      "768/768 [==============================] - 0s 169us/sample - loss: 0.4295 - accuracy: 0.7995\n",
      "Epoch 21/300\n",
      "768/768 [==============================] - 0s 169us/sample - loss: 0.4287 - accuracy: 0.7982\n",
      "Epoch 22/300\n",
      "768/768 [==============================] - 0s 169us/sample - loss: 0.4279 - accuracy: 0.7943\n",
      "Epoch 23/300\n",
      "768/768 [==============================] - 0s 159us/sample - loss: 0.4272 - accuracy: 0.7930\n",
      "Epoch 24/300\n",
      "768/768 [==============================] - 0s 167us/sample - loss: 0.4262 - accuracy: 0.7917\n",
      "Epoch 25/300\n",
      "768/768 [==============================] - 0s 224us/sample - loss: 0.4244 - accuracy: 0.7969\n",
      "Epoch 26/300\n",
      "768/768 [==============================] - 0s 231us/sample - loss: 0.4234 - accuracy: 0.7930\n",
      "Epoch 27/300\n",
      "768/768 [==============================] - 0s 209us/sample - loss: 0.4225 - accuracy: 0.7891\n",
      "Epoch 28/300\n",
      "768/768 [==============================] - 0s 156us/sample - loss: 0.4230 - accuracy: 0.7956\n",
      "Epoch 29/300\n",
      "768/768 [==============================] - 0s 155us/sample - loss: 0.4204 - accuracy: 0.8034\n",
      "Epoch 30/300\n",
      "768/768 [==============================] - 0s 155us/sample - loss: 0.4195 - accuracy: 0.7956\n",
      "Epoch 31/300\n",
      "768/768 [==============================] - 0s 157us/sample - loss: 0.4187 - accuracy: 0.8008\n",
      "Epoch 32/300\n",
      "768/768 [==============================] - 0s 155us/sample - loss: 0.4180 - accuracy: 0.8060\n",
      "Epoch 33/300\n",
      "768/768 [==============================] - 0s 156us/sample - loss: 0.4177 - accuracy: 0.7969\n",
      "Epoch 34/300\n",
      "768/768 [==============================] - 0s 169us/sample - loss: 0.4161 - accuracy: 0.7995\n",
      "Epoch 35/300\n",
      "768/768 [==============================] - 0s 170us/sample - loss: 0.4158 - accuracy: 0.8008\n",
      "Epoch 36/300\n",
      "768/768 [==============================] - 0s 156us/sample - loss: 0.4150 - accuracy: 0.8008\n",
      "Epoch 37/300\n",
      "768/768 [==============================] - 0s 171us/sample - loss: 0.4137 - accuracy: 0.8008\n",
      "Epoch 38/300\n",
      "768/768 [==============================] - 0s 154us/sample - loss: 0.4132 - accuracy: 0.7982\n",
      "Epoch 39/300\n",
      "768/768 [==============================] - 0s 169us/sample - loss: 0.4123 - accuracy: 0.8060\n",
      "Epoch 40/300\n",
      "768/768 [==============================] - 0s 164us/sample - loss: 0.4119 - accuracy: 0.8073\n",
      "Epoch 41/300\n",
      "768/768 [==============================] - 0s 162us/sample - loss: 0.4114 - accuracy: 0.8086\n",
      "Epoch 42/300\n",
      "768/768 [==============================] - 0s 169us/sample - loss: 0.4109 - accuracy: 0.8034\n",
      "Epoch 43/300\n",
      "768/768 [==============================] - 0s 163us/sample - loss: 0.4098 - accuracy: 0.8086\n",
      "Epoch 44/300\n",
      "768/768 [==============================] - 0s 156us/sample - loss: 0.4084 - accuracy: 0.8112\n",
      "Epoch 45/300\n",
      "768/768 [==============================] - 0s 157us/sample - loss: 0.4073 - accuracy: 0.8086\n",
      "Epoch 46/300\n",
      "768/768 [==============================] - 0s 169us/sample - loss: 0.4074 - accuracy: 0.8151\n",
      "Epoch 47/300\n",
      "768/768 [==============================] - 0s 182us/sample - loss: 0.4075 - accuracy: 0.8073\n",
      "Epoch 48/300\n",
      "768/768 [==============================] - 0s 247us/sample - loss: 0.4079 - accuracy: 0.8112\n",
      "Epoch 49/300\n",
      "768/768 [==============================] - 0s 260us/sample - loss: 0.4060 - accuracy: 0.8138\n",
      "Epoch 50/300\n",
      "768/768 [==============================] - 0s 183us/sample - loss: 0.4043 - accuracy: 0.8060\n",
      "Epoch 51/300\n",
      "768/768 [==============================] - 0s 169us/sample - loss: 0.4051 - accuracy: 0.8138\n",
      "Epoch 52/300\n",
      "768/768 [==============================] - 0s 161us/sample - loss: 0.4046 - accuracy: 0.8112\n",
      "Epoch 53/300\n",
      "768/768 [==============================] - 0s 169us/sample - loss: 0.4036 - accuracy: 0.8099\n",
      "Epoch 54/300\n",
      "768/768 [==============================] - 0s 138us/sample - loss: 0.4037 - accuracy: 0.8047\n",
      "Epoch 55/300\n",
      "768/768 [==============================] - 0s 142us/sample - loss: 0.4029 - accuracy: 0.8047\n",
      "Epoch 56/300\n",
      "768/768 [==============================] - 0s 130us/sample - loss: 0.4019 - accuracy: 0.8073\n",
      "Epoch 57/300\n",
      "768/768 [==============================] - 0s 131us/sample - loss: 0.4036 - accuracy: 0.8060\n",
      "Epoch 58/300\n",
      "768/768 [==============================] - 0s 143us/sample - loss: 0.4006 - accuracy: 0.8099\n",
      "Epoch 59/300\n",
      "768/768 [==============================] - 0s 142us/sample - loss: 0.4005 - accuracy: 0.8112\n",
      "Epoch 60/300\n",
      "768/768 [==============================] - 0s 157us/sample - loss: 0.3982 - accuracy: 0.8125\n",
      "Epoch 61/300\n",
      "768/768 [==============================] - 0s 224us/sample - loss: 0.3987 - accuracy: 0.8151\n",
      "Epoch 62/300\n",
      "768/768 [==============================] - 0s 194us/sample - loss: 0.3972 - accuracy: 0.8216\n",
      "Epoch 63/300\n",
      "768/768 [==============================] - 0s 137us/sample - loss: 0.3964 - accuracy: 0.8203\n",
      "Epoch 64/300\n",
      "768/768 [==============================] - 0s 169us/sample - loss: 0.3971 - accuracy: 0.8151\n",
      "Epoch 65/300\n",
      "768/768 [==============================] - 0s 208us/sample - loss: 0.3949 - accuracy: 0.8164\n",
      "Epoch 66/300\n",
      "768/768 [==============================] - 0s 171us/sample - loss: 0.3957 - accuracy: 0.8177\n",
      "Epoch 67/300\n",
      "768/768 [==============================] - 0s 235us/sample - loss: 0.3943 - accuracy: 0.8281\n",
      "Epoch 68/300\n",
      "768/768 [==============================] - 0s 194us/sample - loss: 0.3949 - accuracy: 0.8203\n",
      "Epoch 69/300\n",
      "768/768 [==============================] - 0s 136us/sample - loss: 0.3931 - accuracy: 0.8177\n",
      "Epoch 70/300\n",
      "768/768 [==============================] - 0s 150us/sample - loss: 0.3939 - accuracy: 0.8255\n",
      "Epoch 71/300\n",
      "768/768 [==============================] - 0s 130us/sample - loss: 0.3924 - accuracy: 0.8203\n",
      "Epoch 72/300\n",
      "768/768 [==============================] - 0s 131us/sample - loss: 0.3906 - accuracy: 0.8216\n",
      "Epoch 73/300\n",
      "768/768 [==============================] - 0s 130us/sample - loss: 0.3895 - accuracy: 0.8242\n",
      "Epoch 74/300\n",
      "768/768 [==============================] - 0s 170us/sample - loss: 0.3906 - accuracy: 0.8268\n",
      "Epoch 75/300\n",
      "768/768 [==============================] - 0s 154us/sample - loss: 0.3894 - accuracy: 0.8281\n",
      "Epoch 76/300\n",
      "768/768 [==============================] - 0s 146us/sample - loss: 0.3897 - accuracy: 0.8190\n",
      "Epoch 77/300\n",
      "768/768 [==============================] - 0s 205us/sample - loss: 0.3891 - accuracy: 0.8203\n",
      "Epoch 78/300\n"
     ]
    },
    {
     "name": "stdout",
     "output_type": "stream",
     "text": [
      "768/768 [==============================] - 0s 260us/sample - loss: 0.3881 - accuracy: 0.8216\n",
      "Epoch 79/300\n",
      "768/768 [==============================] - 0s 169us/sample - loss: 0.3872 - accuracy: 0.8229\n",
      "Epoch 80/300\n",
      "768/768 [==============================] - 0s 183us/sample - loss: 0.3868 - accuracy: 0.8216\n",
      "Epoch 81/300\n",
      "768/768 [==============================] - 0s 208us/sample - loss: 0.3858 - accuracy: 0.8203\n",
      "Epoch 82/300\n",
      "768/768 [==============================] - 0s 183us/sample - loss: 0.3856 - accuracy: 0.8242\n",
      "Epoch 83/300\n",
      "768/768 [==============================] - 0s 136us/sample - loss: 0.3853 - accuracy: 0.8203\n",
      "Epoch 84/300\n",
      "768/768 [==============================] - 0s 132us/sample - loss: 0.3849 - accuracy: 0.8255\n",
      "Epoch 85/300\n",
      "768/768 [==============================] - 0s 156us/sample - loss: 0.3838 - accuracy: 0.8216\n",
      "Epoch 86/300\n",
      "768/768 [==============================] - 0s 200us/sample - loss: 0.3845 - accuracy: 0.8294\n",
      "Epoch 87/300\n",
      "768/768 [==============================] - 0s 159us/sample - loss: 0.3831 - accuracy: 0.8242\n",
      "Epoch 88/300\n",
      "768/768 [==============================] - 0s 131us/sample - loss: 0.3836 - accuracy: 0.8203\n",
      "Epoch 89/300\n",
      "768/768 [==============================] - 0s 143us/sample - loss: 0.3818 - accuracy: 0.8229\n",
      "Epoch 90/300\n",
      "768/768 [==============================] - 0s 130us/sample - loss: 0.3808 - accuracy: 0.8268\n",
      "Epoch 91/300\n",
      "768/768 [==============================] - 0s 136us/sample - loss: 0.3820 - accuracy: 0.8203\n",
      "Epoch 92/300\n",
      "768/768 [==============================] - 0s 130us/sample - loss: 0.3804 - accuracy: 0.8229\n",
      "Epoch 93/300\n",
      "768/768 [==============================] - 0s 130us/sample - loss: 0.3805 - accuracy: 0.8242\n",
      "Epoch 94/300\n",
      "768/768 [==============================] - 0s 149us/sample - loss: 0.3800 - accuracy: 0.8216\n",
      "Epoch 95/300\n",
      "768/768 [==============================] - 0s 138us/sample - loss: 0.3798 - accuracy: 0.8229\n",
      "Epoch 96/300\n",
      "768/768 [==============================] - 0s 130us/sample - loss: 0.3798 - accuracy: 0.8242\n",
      "Epoch 97/300\n",
      "768/768 [==============================] - 0s 142us/sample - loss: 0.3792 - accuracy: 0.8255\n",
      "Epoch 98/300\n",
      "768/768 [==============================] - 0s 136us/sample - loss: 0.3785 - accuracy: 0.8164\n",
      "Epoch 99/300\n",
      "768/768 [==============================] - 0s 131us/sample - loss: 0.3781 - accuracy: 0.8242\n",
      "Epoch 100/300\n",
      "768/768 [==============================] - 0s 143us/sample - loss: 0.3765 - accuracy: 0.8255\n",
      "Epoch 101/300\n",
      "768/768 [==============================] - 0s 132us/sample - loss: 0.3756 - accuracy: 0.8255\n",
      "Epoch 102/300\n",
      "768/768 [==============================] - 0s 129us/sample - loss: 0.3747 - accuracy: 0.8229\n",
      "Epoch 103/300\n",
      "768/768 [==============================] - 0s 135us/sample - loss: 0.3758 - accuracy: 0.8255\n",
      "Epoch 104/300\n",
      "768/768 [==============================] - 0s 144us/sample - loss: 0.3766 - accuracy: 0.8203\n",
      "Epoch 105/300\n",
      "768/768 [==============================] - 0s 144us/sample - loss: 0.3754 - accuracy: 0.8190\n",
      "Epoch 106/300\n",
      "768/768 [==============================] - 0s 131us/sample - loss: 0.3749 - accuracy: 0.8242\n",
      "Epoch 107/300\n",
      "768/768 [==============================] - 0s 130us/sample - loss: 0.3753 - accuracy: 0.8229\n",
      "Epoch 108/300\n",
      "768/768 [==============================] - 0s 137us/sample - loss: 0.3739 - accuracy: 0.8203\n",
      "Epoch 109/300\n",
      "768/768 [==============================] - 0s 138us/sample - loss: 0.3745 - accuracy: 0.8255\n",
      "Epoch 110/300\n",
      "768/768 [==============================] - 0s 130us/sample - loss: 0.3716 - accuracy: 0.8307\n",
      "Epoch 111/300\n",
      "768/768 [==============================] - 0s 130us/sample - loss: 0.3726 - accuracy: 0.8242\n",
      "Epoch 112/300\n",
      "768/768 [==============================] - 0s 140us/sample - loss: 0.3709 - accuracy: 0.8255\n",
      "Epoch 113/300\n",
      "768/768 [==============================] - 0s 142us/sample - loss: 0.3720 - accuracy: 0.8242\n",
      "Epoch 114/300\n",
      "768/768 [==============================] - 0s 145us/sample - loss: 0.3705 - accuracy: 0.8281\n",
      "Epoch 115/300\n",
      "768/768 [==============================] - 0s 156us/sample - loss: 0.3700 - accuracy: 0.8229\n",
      "Epoch 116/300\n",
      "768/768 [==============================] - 0s 161us/sample - loss: 0.3697 - accuracy: 0.8281\n",
      "Epoch 117/300\n",
      "768/768 [==============================] - 0s 151us/sample - loss: 0.3699 - accuracy: 0.8294\n",
      "Epoch 118/300\n",
      "768/768 [==============================] - 0s 157us/sample - loss: 0.3692 - accuracy: 0.8216\n",
      "Epoch 119/300\n",
      "768/768 [==============================] - 0s 154us/sample - loss: 0.3679 - accuracy: 0.8268\n",
      "Epoch 120/300\n",
      "768/768 [==============================] - 0s 144us/sample - loss: 0.3666 - accuracy: 0.8294\n",
      "Epoch 121/300\n",
      "768/768 [==============================] - 0s 143us/sample - loss: 0.3679 - accuracy: 0.8346\n",
      "Epoch 122/300\n",
      "768/768 [==============================] - 0s 136us/sample - loss: 0.3661 - accuracy: 0.8359\n",
      "Epoch 123/300\n",
      "768/768 [==============================] - 0s 138us/sample - loss: 0.3675 - accuracy: 0.8216\n",
      "Epoch 124/300\n",
      "768/768 [==============================] - 0s 170us/sample - loss: 0.3658 - accuracy: 0.8307\n",
      "Epoch 125/300\n",
      "768/768 [==============================] - 0s 403us/sample - loss: 0.3654 - accuracy: 0.8229\n",
      "Epoch 126/300\n",
      "768/768 [==============================] - 0s 326us/sample - loss: 0.3662 - accuracy: 0.8242\n",
      "Epoch 127/300\n",
      "768/768 [==============================] - 0s 208us/sample - loss: 0.3644 - accuracy: 0.8333\n",
      "Epoch 128/300\n",
      "768/768 [==============================] - 0s 155us/sample - loss: 0.3637 - accuracy: 0.8268\n",
      "Epoch 129/300\n",
      "768/768 [==============================] - 0s 170us/sample - loss: 0.3629 - accuracy: 0.8242\n",
      "Epoch 130/300\n",
      "768/768 [==============================] - 0s 263us/sample - loss: 0.3624 - accuracy: 0.8242\n",
      "Epoch 131/300\n",
      "768/768 [==============================] - 0s 309us/sample - loss: 0.3618 - accuracy: 0.8359\n",
      "Epoch 132/300\n",
      "768/768 [==============================] - 0s 589us/sample - loss: 0.3617 - accuracy: 0.8307\n",
      "Epoch 133/300\n",
      "768/768 [==============================] - 0s 305us/sample - loss: 0.3612 - accuracy: 0.8333\n",
      "Epoch 134/300\n",
      "768/768 [==============================] - 0s 268us/sample - loss: 0.3611 - accuracy: 0.8320\n",
      "Epoch 135/300\n",
      "768/768 [==============================] - 0s 247us/sample - loss: 0.3599 - accuracy: 0.8333\n",
      "Epoch 136/300\n",
      "768/768 [==============================] - 0s 218us/sample - loss: 0.3604 - accuracy: 0.8320\n",
      "Epoch 137/300\n",
      "768/768 [==============================] - 0s 195us/sample - loss: 0.3596 - accuracy: 0.8320\n",
      "Epoch 138/300\n",
      "768/768 [==============================] - 0s 196us/sample - loss: 0.3597 - accuracy: 0.8320\n",
      "Epoch 139/300\n",
      "768/768 [==============================] - 0s 155us/sample - loss: 0.3587 - accuracy: 0.8333\n",
      "Epoch 140/300\n",
      "768/768 [==============================] - 0s 149us/sample - loss: 0.3575 - accuracy: 0.8320\n",
      "Epoch 141/300\n",
      "768/768 [==============================] - 0s 143us/sample - loss: 0.3558 - accuracy: 0.8346\n",
      "Epoch 142/300\n",
      "768/768 [==============================] - 0s 195us/sample - loss: 0.3573 - accuracy: 0.8255\n",
      "Epoch 143/300\n",
      "768/768 [==============================] - 0s 260us/sample - loss: 0.3563 - accuracy: 0.8359\n",
      "Epoch 144/300\n",
      "768/768 [==============================] - 0s 196us/sample - loss: 0.3563 - accuracy: 0.8411\n",
      "Epoch 145/300\n",
      "768/768 [==============================] - 0s 155us/sample - loss: 0.3552 - accuracy: 0.8320\n",
      "Epoch 146/300\n",
      "768/768 [==============================] - 0s 252us/sample - loss: 0.3540 - accuracy: 0.8372\n",
      "Epoch 147/300\n",
      "768/768 [==============================] - 0s 273us/sample - loss: 0.3548 - accuracy: 0.8320\n",
      "Epoch 148/300\n",
      "768/768 [==============================] - 0s 233us/sample - loss: 0.3522 - accuracy: 0.8320\n",
      "Epoch 149/300\n",
      "768/768 [==============================] - 0s 260us/sample - loss: 0.3522 - accuracy: 0.8359\n",
      "Epoch 150/300\n",
      "768/768 [==============================] - 0s 182us/sample - loss: 0.3530 - accuracy: 0.8411\n",
      "Epoch 151/300\n",
      "768/768 [==============================] - 0s 164us/sample - loss: 0.3524 - accuracy: 0.8359\n",
      "Epoch 152/300\n",
      "768/768 [==============================] - 0s 139us/sample - loss: 0.3529 - accuracy: 0.8359\n",
      "Epoch 153/300\n",
      "768/768 [==============================] - 0s 143us/sample - loss: 0.3513 - accuracy: 0.8451\n",
      "Epoch 154/300\n"
     ]
    },
    {
     "name": "stdout",
     "output_type": "stream",
     "text": [
      "768/768 [==============================] - 0s 338us/sample - loss: 0.3518 - accuracy: 0.8346\n",
      "Epoch 155/300\n",
      "768/768 [==============================] - 0s 326us/sample - loss: 0.3510 - accuracy: 0.8281\n",
      "Epoch 156/300\n",
      "768/768 [==============================] - 0s 333us/sample - loss: 0.3502 - accuracy: 0.8346\n",
      "Epoch 157/300\n",
      "768/768 [==============================] - 0s 414us/sample - loss: 0.3503 - accuracy: 0.8359\n",
      "Epoch 158/300\n",
      "768/768 [==============================] - 0s 557us/sample - loss: 0.3496 - accuracy: 0.8359\n",
      "Epoch 159/300\n",
      "768/768 [==============================] - 0s 568us/sample - loss: 0.3508 - accuracy: 0.8385\n",
      "Epoch 160/300\n",
      "768/768 [==============================] - 0s 313us/sample - loss: 0.3497 - accuracy: 0.8451\n",
      "Epoch 161/300\n",
      "768/768 [==============================] - 0s 156us/sample - loss: 0.3485 - accuracy: 0.8372\n",
      "Epoch 162/300\n",
      "768/768 [==============================] - 0s 187us/sample - loss: 0.3490 - accuracy: 0.8359\n",
      "Epoch 163/300\n",
      "768/768 [==============================] - 0s 143us/sample - loss: 0.3475 - accuracy: 0.8398\n",
      "Epoch 164/300\n",
      "768/768 [==============================] - 0s 145us/sample - loss: 0.3475 - accuracy: 0.8464\n",
      "Epoch 165/300\n",
      "768/768 [==============================] - 0s 167us/sample - loss: 0.3461 - accuracy: 0.8385\n",
      "Epoch 166/300\n",
      "768/768 [==============================] - 0s 161us/sample - loss: 0.3484 - accuracy: 0.8424\n",
      "Epoch 167/300\n",
      "768/768 [==============================] - 0s 163us/sample - loss: 0.3470 - accuracy: 0.8464\n",
      "Epoch 168/300\n",
      "768/768 [==============================] - 0s 194us/sample - loss: 0.3462 - accuracy: 0.8477\n",
      "Epoch 169/300\n",
      "768/768 [==============================] - 0s 183us/sample - loss: 0.3450 - accuracy: 0.8359\n",
      "Epoch 170/300\n",
      "768/768 [==============================] - 0s 155us/sample - loss: 0.3449 - accuracy: 0.8411\n",
      "Epoch 171/300\n",
      "768/768 [==============================] - 0s 139us/sample - loss: 0.3459 - accuracy: 0.8424\n",
      "Epoch 172/300\n",
      "768/768 [==============================] - 0s 156us/sample - loss: 0.3447 - accuracy: 0.8451\n",
      "Epoch 173/300\n",
      "768/768 [==============================] - 0s 143us/sample - loss: 0.3445 - accuracy: 0.8411\n",
      "Epoch 174/300\n",
      "768/768 [==============================] - 0s 156us/sample - loss: 0.3424 - accuracy: 0.8438\n",
      "Epoch 175/300\n",
      "768/768 [==============================] - 0s 156us/sample - loss: 0.3428 - accuracy: 0.8398\n",
      "Epoch 176/300\n",
      "768/768 [==============================] - 0s 144us/sample - loss: 0.3435 - accuracy: 0.8385\n",
      "Epoch 177/300\n",
      "768/768 [==============================] - 0s 143us/sample - loss: 0.3414 - accuracy: 0.8451\n",
      "Epoch 178/300\n",
      "768/768 [==============================] - 0s 136us/sample - loss: 0.3416 - accuracy: 0.8411\n",
      "Epoch 179/300\n",
      "768/768 [==============================] - 0s 158us/sample - loss: 0.3412 - accuracy: 0.8529\n",
      "Epoch 180/300\n",
      "768/768 [==============================] - 0s 143us/sample - loss: 0.3419 - accuracy: 0.8503\n",
      "Epoch 181/300\n",
      "768/768 [==============================] - 0s 155us/sample - loss: 0.3418 - accuracy: 0.8424\n",
      "Epoch 182/300\n",
      "768/768 [==============================] - 0s 131us/sample - loss: 0.3412 - accuracy: 0.8490\n",
      "Epoch 183/300\n",
      "768/768 [==============================] - 0s 155us/sample - loss: 0.3411 - accuracy: 0.8438\n",
      "Epoch 184/300\n",
      "768/768 [==============================] - 0s 144us/sample - loss: 0.3398 - accuracy: 0.8438\n",
      "Epoch 185/300\n",
      "768/768 [==============================] - 0s 156us/sample - loss: 0.3401 - accuracy: 0.8411\n",
      "Epoch 186/300\n",
      "768/768 [==============================] - 0s 127us/sample - loss: 0.3378 - accuracy: 0.8424\n",
      "Epoch 187/300\n",
      "768/768 [==============================] - 0s 143us/sample - loss: 0.3393 - accuracy: 0.8477\n",
      "Epoch 188/300\n",
      "768/768 [==============================] - 0s 153us/sample - loss: 0.3396 - accuracy: 0.8411\n",
      "Epoch 189/300\n",
      "768/768 [==============================] - 0s 133us/sample - loss: 0.3376 - accuracy: 0.8477\n",
      "Epoch 190/300\n",
      "768/768 [==============================] - 0s 135us/sample - loss: 0.3359 - accuracy: 0.8542\n",
      "Epoch 191/300\n",
      "768/768 [==============================] - 0s 139us/sample - loss: 0.3362 - accuracy: 0.8451\n",
      "Epoch 192/300\n",
      "768/768 [==============================] - 0s 127us/sample - loss: 0.3363 - accuracy: 0.8477\n",
      "Epoch 193/300\n",
      "768/768 [==============================] - 0s 155us/sample - loss: 0.3351 - accuracy: 0.8503\n",
      "Epoch 194/300\n",
      "768/768 [==============================] - 0s 151us/sample - loss: 0.3374 - accuracy: 0.8438\n",
      "Epoch 195/300\n",
      "768/768 [==============================] - 0s 144us/sample - loss: 0.3336 - accuracy: 0.8490\n",
      "Epoch 196/300\n",
      "768/768 [==============================] - 0s 155us/sample - loss: 0.3357 - accuracy: 0.8490\n",
      "Epoch 197/300\n",
      "768/768 [==============================] - 0s 135us/sample - loss: 0.3325 - accuracy: 0.8516\n",
      "Epoch 198/300\n",
      "768/768 [==============================] - 0s 169us/sample - loss: 0.3355 - accuracy: 0.8464\n",
      "Epoch 199/300\n",
      "768/768 [==============================] - 0s 183us/sample - loss: 0.3328 - accuracy: 0.8503\n",
      "Epoch 200/300\n",
      "768/768 [==============================] - 0s 259us/sample - loss: 0.3334 - accuracy: 0.8503\n",
      "Epoch 201/300\n",
      "768/768 [==============================] - 0s 229us/sample - loss: 0.3317 - accuracy: 0.8477\n",
      "Epoch 202/300\n",
      "768/768 [==============================] - 0s 196us/sample - loss: 0.3324 - accuracy: 0.8555\n",
      "Epoch 203/300\n",
      "768/768 [==============================] - 0s 169us/sample - loss: 0.3310 - accuracy: 0.8477\n",
      "Epoch 204/300\n",
      "768/768 [==============================] - 0s 188us/sample - loss: 0.3321 - accuracy: 0.8555\n",
      "Epoch 205/300\n",
      "768/768 [==============================] - 0s 151us/sample - loss: 0.3323 - accuracy: 0.8503\n",
      "Epoch 206/300\n",
      "768/768 [==============================] - 0s 156us/sample - loss: 0.3317 - accuracy: 0.8555\n",
      "Epoch 207/300\n",
      "768/768 [==============================] - 0s 156us/sample - loss: 0.3310 - accuracy: 0.8581\n",
      "Epoch 208/300\n",
      "768/768 [==============================] - 0s 184us/sample - loss: 0.3297 - accuracy: 0.8529\n",
      "Epoch 209/300\n",
      "768/768 [==============================] - 0s 155us/sample - loss: 0.3306 - accuracy: 0.8490\n",
      "Epoch 210/300\n",
      "768/768 [==============================] - 0s 195us/sample - loss: 0.3303 - accuracy: 0.8503\n",
      "Epoch 211/300\n",
      "768/768 [==============================] - 0s 171us/sample - loss: 0.3305 - accuracy: 0.8477\n",
      "Epoch 212/300\n",
      "768/768 [==============================] - 0s 181us/sample - loss: 0.3275 - accuracy: 0.8542\n",
      "Epoch 213/300\n",
      "768/768 [==============================] - 0s 167us/sample - loss: 0.3284 - accuracy: 0.8503\n",
      "Epoch 214/300\n",
      "768/768 [==============================] - 0s 172us/sample - loss: 0.3289 - accuracy: 0.8516\n",
      "Epoch 215/300\n",
      "768/768 [==============================] - 0s 192us/sample - loss: 0.3320 - accuracy: 0.8555\n",
      "Epoch 216/300\n",
      "768/768 [==============================] - 0s 161us/sample - loss: 0.3276 - accuracy: 0.8620\n",
      "Epoch 217/300\n",
      "768/768 [==============================] - 0s 167us/sample - loss: 0.3272 - accuracy: 0.8555\n",
      "Epoch 218/300\n",
      "768/768 [==============================] - 0s 205us/sample - loss: 0.3287 - accuracy: 0.8529\n",
      "Epoch 219/300\n",
      "768/768 [==============================] - 0s 194us/sample - loss: 0.3283 - accuracy: 0.8581\n",
      "Epoch 220/300\n",
      "768/768 [==============================] - 0s 196us/sample - loss: 0.3264 - accuracy: 0.8581\n",
      "Epoch 221/300\n",
      "768/768 [==============================] - 0s 172us/sample - loss: 0.3256 - accuracy: 0.8542\n",
      "Epoch 222/300\n",
      "768/768 [==============================] - 0s 185us/sample - loss: 0.3258 - accuracy: 0.8594\n",
      "Epoch 223/300\n",
      "768/768 [==============================] - 0s 169us/sample - loss: 0.3252 - accuracy: 0.8620\n",
      "Epoch 224/300\n",
      "768/768 [==============================] - 0s 182us/sample - loss: 0.3252 - accuracy: 0.8594\n",
      "Epoch 225/300\n",
      "768/768 [==============================] - 0s 170us/sample - loss: 0.3244 - accuracy: 0.8568\n",
      "Epoch 226/300\n",
      "768/768 [==============================] - 0s 157us/sample - loss: 0.3232 - accuracy: 0.8620\n",
      "Epoch 227/300\n",
      "768/768 [==============================] - 0s 183us/sample - loss: 0.3254 - accuracy: 0.8581\n",
      "Epoch 228/300\n",
      "768/768 [==============================] - 0s 182us/sample - loss: 0.3246 - accuracy: 0.8555\n",
      "Epoch 229/300\n",
      "768/768 [==============================] - 0s 187us/sample - loss: 0.3260 - accuracy: 0.8503\n",
      "Epoch 230/300\n"
     ]
    },
    {
     "name": "stdout",
     "output_type": "stream",
     "text": [
      "768/768 [==============================] - 0s 187us/sample - loss: 0.3236 - accuracy: 0.8568\n",
      "Epoch 231/300\n",
      "768/768 [==============================] - 0s 158us/sample - loss: 0.3239 - accuracy: 0.8529\n",
      "Epoch 232/300\n",
      "768/768 [==============================] - 0s 156us/sample - loss: 0.3239 - accuracy: 0.8516\n",
      "Epoch 233/300\n",
      "768/768 [==============================] - 0s 143us/sample - loss: 0.3224 - accuracy: 0.8594\n",
      "Epoch 234/300\n",
      "768/768 [==============================] - 0s 145us/sample - loss: 0.3236 - accuracy: 0.8529\n",
      "Epoch 235/300\n",
      "768/768 [==============================] - 0s 143us/sample - loss: 0.3250 - accuracy: 0.8529\n",
      "Epoch 236/300\n",
      "768/768 [==============================] - 0s 144us/sample - loss: 0.3218 - accuracy: 0.8646\n",
      "Epoch 237/300\n",
      "768/768 [==============================] - 0s 156us/sample - loss: 0.3212 - accuracy: 0.8620\n",
      "Epoch 238/300\n",
      "768/768 [==============================] - 0s 183us/sample - loss: 0.3230 - accuracy: 0.8555\n",
      "Epoch 239/300\n",
      "768/768 [==============================] - 0s 235us/sample - loss: 0.3209 - accuracy: 0.8555\n",
      "Epoch 240/300\n",
      "768/768 [==============================] - 0s 170us/sample - loss: 0.3222 - accuracy: 0.8581\n",
      "Epoch 241/300\n",
      "768/768 [==============================] - 0s 147us/sample - loss: 0.3201 - accuracy: 0.8542\n",
      "Epoch 242/300\n",
      "768/768 [==============================] - 0s 152us/sample - loss: 0.3216 - accuracy: 0.8581\n",
      "Epoch 243/300\n",
      "768/768 [==============================] - 0s 142us/sample - loss: 0.3180 - accuracy: 0.8542\n",
      "Epoch 244/300\n",
      "768/768 [==============================] - 0s 138us/sample - loss: 0.3194 - accuracy: 0.8594\n",
      "Epoch 245/300\n",
      "768/768 [==============================] - 0s 157us/sample - loss: 0.3183 - accuracy: 0.8620\n",
      "Epoch 246/300\n",
      "768/768 [==============================] - 0s 156us/sample - loss: 0.3192 - accuracy: 0.8555\n",
      "Epoch 247/300\n",
      "768/768 [==============================] - 0s 140us/sample - loss: 0.3191 - accuracy: 0.8607\n",
      "Epoch 248/300\n",
      "768/768 [==============================] - 0s 132us/sample - loss: 0.3182 - accuracy: 0.8633\n",
      "Epoch 249/300\n",
      "768/768 [==============================] - 0s 156us/sample - loss: 0.3208 - accuracy: 0.8581\n",
      "Epoch 250/300\n",
      "768/768 [==============================] - 0s 148us/sample - loss: 0.3190 - accuracy: 0.8646\n",
      "Epoch 251/300\n",
      "768/768 [==============================] - 0s 126us/sample - loss: 0.3187 - accuracy: 0.8672\n",
      "Epoch 252/300\n",
      "768/768 [==============================] - 0s 151us/sample - loss: 0.3197 - accuracy: 0.8594\n",
      "Epoch 253/300\n",
      "768/768 [==============================] - 0s 143us/sample - loss: 0.3187 - accuracy: 0.8646\n",
      "Epoch 254/300\n",
      "768/768 [==============================] - 0s 156us/sample - loss: 0.3167 - accuracy: 0.8607\n",
      "Epoch 255/300\n",
      "768/768 [==============================] - 0s 146us/sample - loss: 0.3174 - accuracy: 0.8633\n",
      "Epoch 256/300\n",
      "768/768 [==============================] - 0s 141us/sample - loss: 0.3167 - accuracy: 0.8672\n",
      "Epoch 257/300\n",
      "768/768 [==============================] - 0s 155us/sample - loss: 0.3155 - accuracy: 0.8646\n",
      "Epoch 258/300\n",
      "768/768 [==============================] - 0s 148us/sample - loss: 0.3179 - accuracy: 0.8594\n",
      "Epoch 259/300\n",
      "768/768 [==============================] - 0s 151us/sample - loss: 0.3163 - accuracy: 0.8659\n",
      "Epoch 260/300\n",
      "768/768 [==============================] - 0s 142us/sample - loss: 0.3185 - accuracy: 0.8659\n",
      "Epoch 261/300\n",
      "768/768 [==============================] - 0s 138us/sample - loss: 0.3149 - accuracy: 0.8724\n",
      "Epoch 262/300\n",
      "768/768 [==============================] - 0s 149us/sample - loss: 0.3182 - accuracy: 0.8607\n",
      "Epoch 263/300\n",
      "768/768 [==============================] - 0s 151us/sample - loss: 0.3139 - accuracy: 0.8620\n",
      "Epoch 264/300\n",
      "768/768 [==============================] - 0s 149us/sample - loss: 0.3157 - accuracy: 0.8659\n",
      "Epoch 265/300\n",
      "768/768 [==============================] - 0s 138us/sample - loss: 0.3138 - accuracy: 0.8594\n",
      "Epoch 266/300\n",
      "768/768 [==============================] - 0s 148us/sample - loss: 0.3146 - accuracy: 0.8633\n",
      "Epoch 267/300\n",
      "768/768 [==============================] - 0s 151us/sample - loss: 0.3136 - accuracy: 0.8594\n",
      "Epoch 268/300\n",
      "768/768 [==============================] - 0s 148us/sample - loss: 0.3155 - accuracy: 0.8594\n",
      "Epoch 269/300\n",
      "768/768 [==============================] - 0s 145us/sample - loss: 0.3140 - accuracy: 0.8620\n",
      "Epoch 270/300\n",
      "768/768 [==============================] - 0s 142us/sample - loss: 0.3131 - accuracy: 0.8672\n",
      "Epoch 271/300\n",
      "768/768 [==============================] - 0s 135us/sample - loss: 0.3138 - accuracy: 0.8620\n",
      "Epoch 272/300\n",
      "768/768 [==============================] - 0s 151us/sample - loss: 0.3139 - accuracy: 0.8620\n",
      "Epoch 273/300\n",
      "768/768 [==============================] - 0s 151us/sample - loss: 0.3131 - accuracy: 0.8659\n",
      "Epoch 274/300\n",
      "768/768 [==============================] - 0s 143us/sample - loss: 0.3147 - accuracy: 0.8594\n",
      "Epoch 275/300\n",
      "768/768 [==============================] - 0s 156us/sample - loss: 0.3134 - accuracy: 0.8659\n",
      "Epoch 276/300\n",
      "768/768 [==============================] - 0s 144us/sample - loss: 0.3110 - accuracy: 0.8633\n",
      "Epoch 277/300\n",
      "768/768 [==============================] - 0s 143us/sample - loss: 0.3118 - accuracy: 0.8659\n",
      "Epoch 278/300\n",
      "768/768 [==============================] - 0s 142us/sample - loss: 0.3125 - accuracy: 0.8685\n",
      "Epoch 279/300\n",
      "768/768 [==============================] - 0s 148us/sample - loss: 0.3122 - accuracy: 0.8594\n",
      "Epoch 280/300\n",
      "768/768 [==============================] - 0s 163us/sample - loss: 0.3119 - accuracy: 0.8607\n",
      "Epoch 281/300\n",
      "768/768 [==============================] - 0s 175us/sample - loss: 0.3110 - accuracy: 0.8620\n",
      "Epoch 282/300\n",
      "768/768 [==============================] - 0s 139us/sample - loss: 0.3203 - accuracy: 0.8620\n",
      "Epoch 283/300\n",
      "768/768 [==============================] - 0s 149us/sample - loss: 0.3109 - accuracy: 0.8711\n",
      "Epoch 284/300\n",
      "768/768 [==============================] - 0s 132us/sample - loss: 0.3110 - accuracy: 0.8711\n",
      "Epoch 285/300\n",
      "768/768 [==============================] - 0s 143us/sample - loss: 0.3112 - accuracy: 0.8646\n",
      "Epoch 286/300\n",
      "768/768 [==============================] - 0s 151us/sample - loss: 0.3089 - accuracy: 0.8633\n",
      "Epoch 287/300\n",
      "768/768 [==============================] - 0s 196us/sample - loss: 0.3118 - accuracy: 0.8581\n",
      "Epoch 288/300\n",
      "768/768 [==============================] - 0s 215us/sample - loss: 0.3118 - accuracy: 0.8646\n",
      "Epoch 289/300\n",
      "768/768 [==============================] - 0s 196us/sample - loss: 0.3106 - accuracy: 0.8672\n",
      "Epoch 290/300\n",
      "768/768 [==============================] - 0s 167us/sample - loss: 0.3091 - accuracy: 0.8659\n",
      "Epoch 291/300\n",
      "768/768 [==============================] - 0s 235us/sample - loss: 0.3086 - accuracy: 0.8698\n",
      "Epoch 292/300\n",
      "768/768 [==============================] - 0s 221us/sample - loss: 0.3107 - accuracy: 0.8633\n",
      "Epoch 293/300\n",
      "768/768 [==============================] - 0s 195us/sample - loss: 0.3078 - accuracy: 0.8646\n",
      "Epoch 294/300\n",
      "768/768 [==============================] - 0s 182us/sample - loss: 0.3119 - accuracy: 0.8620\n",
      "Epoch 295/300\n",
      "768/768 [==============================] - 0s 193us/sample - loss: 0.3079 - accuracy: 0.8672\n",
      "Epoch 296/300\n",
      "768/768 [==============================] - 0s 161us/sample - loss: 0.3069 - accuracy: 0.8672\n",
      "Epoch 297/300\n",
      "768/768 [==============================] - 0s 164us/sample - loss: 0.3111 - accuracy: 0.8672\n",
      "Epoch 298/300\n",
      "768/768 [==============================] - 0s 197us/sample - loss: 0.3090 - accuracy: 0.8659\n",
      "Epoch 299/300\n",
      "768/768 [==============================] - 0s 208us/sample - loss: 0.3097 - accuracy: 0.8620\n",
      "Epoch 300/300\n",
      "768/768 [==============================] - 0s 187us/sample - loss: 0.3093 - accuracy: 0.8607\n"
     ]
    }
   ],
   "source": [
    "# Solution (final net: extra layer, first layer enlarged, relu activation func.)\n",
    "model = keras.Sequential()\n",
    "model.add(keras.layers.Dense(16, input_dim=8, activation='relu'))\n",
    "model.add(keras.layers.Dense(8, activation=\"relu\"))\n",
    "model.add(keras.layers.Dense(1, activation='sigmoid'))\n",
    "\n",
    "model.compile(loss='binary_crossentropy', optimizer='adam', metrics=['accuracy'])\n",
    "\n",
    "model.fit(diabetes_X, diabetes_Y, epochs=300, batch_size=10)\n",
    "model.save('out/3_layer_diabetes.h5')"
   ]
  },
  {
   "cell_type": "code",
   "execution_count": 69,
   "metadata": {},
   "outputs": [
    {
     "name": "stdout",
     "output_type": "stream",
     "text": [
      "[6.0, 148.0, 72.0, 35.0, 0.0, 33.6, 0.627, 50.0]\n",
      "[[1.]]\n",
      "process time in microseconds: 46066\n"
     ]
    }
   ],
   "source": [
    "input_array = dataset[0][0:8]\n",
    "input = tf.reshape(input_array,[1,8])\n",
    "print(np.array(input[0]).flatten().tolist())\n",
    "time_before = int(round(time.time_ns() / 1000))\n",
    "predictions = model.predict(input)\n",
    "time_after = int(round(time.time_ns() / 1000))\n",
    "print(predictions)\n",
    "print(\"process time in microseconds: \" + str(time_after - time_before))"
   ]
  },
  {
   "cell_type": "markdown",
   "metadata": {},
   "source": [
    "## Fashion MNIST"
   ]
  },
  {
   "cell_type": "code",
   "execution_count": 73,
   "metadata": {},
   "outputs": [],
   "source": [
    "fashion_mnist = keras.datasets.fashion_mnist\n",
    "(train_images, train_labels), (test_images, test_labels) = fashion_mnist.load_data()\n",
    "class_names = ['T-shirt/top', 'Trouser', 'Pullover', 'Dress', 'Coat',\n",
    "               'Sandal', 'Shirt', 'Sneaker', 'Bag', 'Ankle boot']\n",
    "\n",
    "train_images = train_images / 255.0\n",
    "test_images = test_images / 255.0\n",
    "\n",
    "train_images = tf.reshape(train_images, [-1, 28, 28, 1])\n",
    "test_images = tf.reshape(test_images, [-1, 28, 28, 1])"
   ]
  },
  {
   "cell_type": "code",
   "execution_count": 74,
   "metadata": {},
   "outputs": [
    {
     "name": "stdout",
     "output_type": "stream",
     "text": [
      "Train on 60000 samples\n",
      "Epoch 1/10\n",
      "60000/60000 [==============================] - 4s 69us/sample - loss: 1.2056 - accuracy: 0.6455\n",
      "Epoch 2/10\n",
      "60000/60000 [==============================] - 4s 63us/sample - loss: 0.7906 - accuracy: 0.7445\n",
      "Epoch 3/10\n",
      "60000/60000 [==============================] - 4s 69us/sample - loss: 0.7009 - accuracy: 0.7649\n",
      "Epoch 4/10\n",
      "60000/60000 [==============================] - 4s 71us/sample - loss: 0.6584 - accuracy: 0.7751\n",
      "Epoch 5/10\n",
      "60000/60000 [==============================] - 4s 65us/sample - loss: 0.6326 - accuracy: 0.7823\n",
      "Epoch 6/10\n",
      "60000/60000 [==============================] - 4s 69us/sample - loss: 0.6155 - accuracy: 0.7868\n",
      "Epoch 7/10\n",
      "60000/60000 [==============================] - 4s 60us/sample - loss: 0.6029 - accuracy: 0.7899\n",
      "Epoch 8/10\n",
      "60000/60000 [==============================] - 3s 57us/sample - loss: 0.5934 - accuracy: 0.7928\n",
      "Epoch 9/10\n",
      "60000/60000 [==============================] - 4s 59us/sample - loss: 0.5860 - accuracy: 0.7951\n",
      "Epoch 10/10\n",
      "60000/60000 [==============================] - 4s 60us/sample - loss: 0.5796 - accuracy: 0.7965\n"
     ]
    },
    {
     "data": {
      "text/plain": [
       "<tensorflow.python.keras.callbacks.History at 0x1e135895ba8>"
      ]
     },
     "execution_count": 74,
     "metadata": {},
     "output_type": "execute_result"
    }
   ],
   "source": [
    "model = keras.Sequential([\n",
    "    keras.layers.AveragePooling2D(input_shape=(28, 28, 1), pool_size=(4,4),strides=(4,4), padding='valid', data_format='channels_last'),\n",
    "    #keras.layers.AveragePooling2D(pool_size=(2,2),strides=(2,2), padding='valid', data_format='channels_last'),\n",
    "    #keras.layers.AveragePooling2D(pool_size=(2,2),strides=(2,2), padding='valid', data_format='channels_last'),\n",
    "    keras.layers.Flatten(),\n",
    "    #keras.layers.Dense(128, activation='relu'),\n",
    "    keras.layers.Dense(10, activation='softmax')\n",
    "])\n",
    "\n",
    "model.compile(optimizer='adam',\n",
    "              loss='sparse_categorical_crossentropy',\n",
    "              metrics=['accuracy'])\n",
    "\n",
    "model.fit(train_images, train_labels, epochs=10)\n"
   ]
  },
  {
   "cell_type": "code",
   "execution_count": 75,
   "metadata": {},
   "outputs": [],
   "source": [
    "model.save('out/fashion_mnist_0.h5')"
   ]
  },
  {
   "cell_type": "code",
   "execution_count": 76,
   "metadata": {},
   "outputs": [
    {
     "name": "stdout",
     "output_type": "stream",
     "text": [
      "[0.0, 0.0, 0.0, 0.0, 0.0, 0.0, 0.0, 0.0, 0.0, 0.0, 0.0, 0.0, 0.0, 0.0, 0.0, 0.0, 0.0, 0.0, 0.0, 0.0, 0.0, 0.0, 0.0, 0.0, 0.0, 0.0, 0.0, 0.0, 0.0, 0.0, 0.0, 0.0, 0.0, 0.0, 0.0, 0.0, 0.0, 0.0, 0.0, 0.0, 0.0, 0.0, 0.0, 0.0, 0.0, 0.0, 0.0, 0.0, 0.0, 0.0, 0.0, 0.0, 0.0, 0.0, 0.0, 0.0, 0.0, 0.0, 0.0, 0.0, 0.0, 0.0, 0.0, 0.0, 0.0, 0.0, 0.0, 0.0, 0.0, 0.0, 0.0, 0.0, 0.0, 0.0, 0.0, 0.0, 0.0, 0.0, 0.0, 0.0, 0.0, 0.0, 0.0, 0.0, 0.0, 0.0, 0.0, 0.0, 0.0, 0.0, 0.0, 0.0, 0.0, 0.0, 0.0, 0.0, 0.00392156862745098, 0.0, 0.0, 0.050980392156862744, 0.28627450980392155, 0.0, 0.0, 0.00392156862745098, 0.01568627450980392, 0.0, 0.0, 0.0, 0.0, 0.00392156862745098, 0.00392156862745098, 0.0, 0.0, 0.0, 0.0, 0.0, 0.0, 0.0, 0.0, 0.0, 0.0, 0.0, 0.0, 0.0, 0.011764705882352941, 0.0, 0.1411764705882353, 0.5333333333333333, 0.4980392156862745, 0.24313725490196078, 0.21176470588235294, 0.0, 0.0, 0.0, 0.00392156862745098, 0.011764705882352941, 0.01568627450980392, 0.0, 0.0, 0.011764705882352941, 0.0, 0.0, 0.0, 0.0, 0.0, 0.0, 0.0, 0.0, 0.0, 0.0, 0.0, 0.0, 0.023529411764705882, 0.0, 0.4, 0.8, 0.6901960784313725, 0.5254901960784314, 0.5647058823529412, 0.4823529411764706, 0.09019607843137255, 0.0, 0.0, 0.0, 0.0, 0.047058823529411764, 0.0392156862745098, 0.0, 0.0, 0.0, 0.0, 0.0, 0.0, 0.0, 0.0, 0.0, 0.0, 0.0, 0.0, 0.0, 0.0, 0.0, 0.6078431372549019, 0.9254901960784314, 0.8117647058823529, 0.6980392156862745, 0.4196078431372549, 0.611764705882353, 0.6313725490196078, 0.42745098039215684, 0.25098039215686274, 0.09019607843137255, 0.30196078431372547, 0.5098039215686274, 0.2823529411764706, 0.058823529411764705, 0.0, 0.0, 0.0, 0.0, 0.0, 0.0, 0.0, 0.0, 0.0, 0.0, 0.0, 0.00392156862745098, 0.0, 0.27058823529411763, 0.8117647058823529, 0.8745098039215686, 0.8549019607843137, 0.8470588235294118, 0.8470588235294118, 0.6392156862745098, 0.4980392156862745, 0.4745098039215686, 0.47843137254901963, 0.5725490196078431, 0.5529411764705883, 0.34509803921568627, 0.6745098039215687, 0.25882352941176473, 0.0, 0.0, 0.0, 0.0, 0.0, 0.0, 0.0, 0.0, 0.0, 0.00392156862745098, 0.00392156862745098, 0.00392156862745098, 0.0, 0.7843137254901961, 0.9098039215686274, 0.9098039215686274, 0.9137254901960784, 0.8980392156862745, 0.8745098039215686, 0.8745098039215686, 0.8431372549019608, 0.8352941176470589, 0.6431372549019608, 0.4980392156862745, 0.4823529411764706, 0.7686274509803922, 0.8980392156862745, 0.0, 0.0, 0.0, 0.0, 0.0, 0.0, 0.0, 0.0, 0.0, 0.0, 0.0, 0.0, 0.0, 0.0, 0.7176470588235294, 0.8823529411764706, 0.8470588235294118, 0.8745098039215686, 0.8941176470588236, 0.9215686274509803, 0.8901960784313725, 0.8784313725490196, 0.8705882352941177, 0.8784313725490196, 0.8666666666666667, 0.8745098039215686, 0.9607843137254902, 0.6784313725490196, 0.0, 0.0, 0.0, 0.0, 0.0, 0.0, 0.0, 0.0, 0.0, 0.0, 0.0, 0.0, 0.0, 0.0, 0.7568627450980392, 0.8941176470588236, 0.8549019607843137, 0.8352941176470589, 0.7764705882352941, 0.7058823529411765, 0.8313725490196079, 0.8235294117647058, 0.8274509803921568, 0.8352941176470589, 0.8745098039215686, 0.8627450980392157, 0.9529411764705882, 0.792156862745098, 0.0, 0.0, 0.0, 0.0, 0.0, 0.0, 0.0, 0.0, 0.0, 0.0, 0.00392156862745098, 0.011764705882352941, 0.0, 0.047058823529411764, 0.8588235294117647, 0.8627450980392157, 0.8313725490196079, 0.8549019607843137, 0.7529411764705882, 0.6627450980392157, 0.8901960784313725, 0.8156862745098039, 0.8549019607843137, 0.8784313725490196, 0.8313725490196079, 0.8862745098039215, 0.7725490196078432, 0.8196078431372549, 0.20392156862745098, 0.0, 0.0, 0.0, 0.0, 0.0, 0.0, 0.0, 0.0, 0.0, 0.0, 0.023529411764705882, 0.0, 0.38823529411764707, 0.9568627450980393, 0.8705882352941177, 0.8627450980392157, 0.8549019607843137, 0.796078431372549, 0.7764705882352941, 0.8666666666666667, 0.8431372549019608, 0.8352941176470589, 0.8705882352941177, 0.8627450980392157, 0.9607843137254902, 0.4666666666666667, 0.6549019607843137, 0.2196078431372549, 0.0, 0.0, 0.0, 0.0, 0.0, 0.0, 0.0, 0.0, 0.0, 0.01568627450980392, 0.0, 0.0, 0.21568627450980393, 0.9254901960784314, 0.8941176470588236, 0.9019607843137255, 0.8941176470588236, 0.9411764705882353, 0.9098039215686274, 0.8352941176470589, 0.8549019607843137, 0.8745098039215686, 0.9176470588235294, 0.8509803921568627, 0.8509803921568627, 0.8196078431372549, 0.3607843137254902, 0.0, 0.0, 0.0, 0.00392156862745098, 0.01568627450980392, 0.023529411764705882, 0.027450980392156862, 0.00784313725490196, 0.0, 0.0, 0.0, 0.0, 0.0, 0.9294117647058824, 0.8862745098039215, 0.8509803921568627, 0.8745098039215686, 0.8705882352941177, 0.8588235294117647, 0.8705882352941177, 0.8666666666666667, 0.8470588235294118, 0.8745098039215686, 0.8980392156862745, 0.8431372549019608, 0.8549019607843137, 1.0, 0.30196078431372547, 0.0, 0.0, 0.011764705882352941, 0.0, 0.0, 0.0, 0.0, 0.0, 0.0, 0.0, 0.24313725490196078, 0.5686274509803921, 0.8, 0.8941176470588236, 0.8117647058823529, 0.8352941176470589, 0.8666666666666667, 0.8549019607843137, 0.8156862745098039, 0.8274509803921568, 0.8549019607843137, 0.8784313725490196, 0.8745098039215686, 0.8588235294117647, 0.8431372549019608, 0.8784313725490196, 0.9568627450980393, 0.6235294117647059, 0.0, 0.0, 0.0, 0.0, 0.0, 0.07058823529411765, 0.17254901960784313, 0.3215686274509804, 0.4196078431372549, 0.7411764705882353, 0.8941176470588236, 0.8627450980392157, 0.8705882352941177, 0.8509803921568627, 0.8862745098039215, 0.7843137254901961, 0.803921568627451, 0.8274509803921568, 0.9019607843137255, 0.8784313725490196, 0.9176470588235294, 0.6901960784313725, 0.7372549019607844, 0.9803921568627451, 0.9725490196078431, 0.9137254901960784, 0.9333333333333333, 0.8431372549019608, 0.0, 0.0, 0.2235294117647059, 0.7333333333333333, 0.8156862745098039, 0.8784313725490196, 0.8666666666666667, 0.8784313725490196, 0.8156862745098039, 0.8, 0.8392156862745098, 0.8156862745098039, 0.8196078431372549, 0.7843137254901961, 0.6235294117647059, 0.9607843137254902, 0.7568627450980392, 0.807843137254902, 0.8745098039215686, 1.0, 1.0, 0.8666666666666667, 0.9176470588235294, 0.8666666666666667, 0.8274509803921568, 0.8627450980392157, 0.9098039215686274, 0.9647058823529412, 0.0, 0.011764705882352941, 0.792156862745098, 0.8941176470588236, 0.8784313725490196, 0.8666666666666667, 0.8274509803921568, 0.8274509803921568, 0.8392156862745098, 0.803921568627451, 0.803921568627451, 0.803921568627451, 0.8627450980392157, 0.9411764705882353, 0.3137254901960784, 0.5882352941176471, 1.0, 0.8980392156862745, 0.8666666666666667, 0.7372549019607844, 0.6039215686274509, 0.7490196078431373, 0.8235294117647058, 0.8, 0.8196078431372549, 0.8705882352941177, 0.8941176470588236, 0.8823529411764706, 0.0, 0.3843137254901961, 0.9137254901960784, 0.7764705882352941, 0.8235294117647058, 0.8705882352941177, 0.8980392156862745, 0.8980392156862745, 0.9176470588235294, 0.9764705882352941, 0.8627450980392157, 0.7607843137254902, 0.8431372549019608, 0.8509803921568627, 0.9450980392156862, 0.2549019607843137, 0.28627450980392155, 0.41568627450980394, 0.4588235294117647, 0.6588235294117647, 0.8588235294117647, 0.8666666666666667, 0.8431372549019608, 0.8509803921568627, 0.8745098039215686, 0.8745098039215686, 0.8784313725490196, 0.8980392156862745, 0.11372549019607843, 0.29411764705882354, 0.8, 0.8313725490196079, 0.8, 0.7568627450980392, 0.803921568627451, 0.8274509803921568, 0.8823529411764706, 0.8470588235294118, 0.7254901960784313, 0.7725490196078432, 0.807843137254902, 0.7764705882352941, 0.8352941176470589, 0.9411764705882353, 0.7647058823529411, 0.8901960784313725, 0.9607843137254902, 0.9372549019607843, 0.8745098039215686, 0.8549019607843137, 0.8313725490196079, 0.8196078431372549, 0.8705882352941177, 0.8627450980392157, 0.8666666666666667, 0.9019607843137255, 0.2627450980392157, 0.18823529411764706, 0.796078431372549, 0.7176470588235294, 0.7607843137254902, 0.8352941176470589, 0.7725490196078432, 0.7254901960784313, 0.7450980392156863, 0.7607843137254902, 0.7529411764705882, 0.792156862745098, 0.8392156862745098, 0.8588235294117647, 0.8666666666666667, 0.8627450980392157, 0.9254901960784314, 0.8823529411764706, 0.8470588235294118, 0.7803921568627451, 0.807843137254902, 0.7294117647058823, 0.7098039215686275, 0.6941176470588235, 0.6745098039215687, 0.7098039215686275, 0.803921568627451, 0.807843137254902, 0.45098039215686275, 0.0, 0.47843137254901963, 0.8588235294117647, 0.7568627450980392, 0.7019607843137254, 0.6705882352941176, 0.7176470588235294, 0.7686274509803922, 0.8, 0.8235294117647058, 0.8352941176470589, 0.8117647058823529, 0.8274509803921568, 0.8235294117647058, 0.7843137254901961, 0.7686274509803922, 0.7607843137254902, 0.7490196078431373, 0.7647058823529411, 0.7490196078431373, 0.7764705882352941, 0.7529411764705882, 0.6901960784313725, 0.611764705882353, 0.6549019607843137, 0.6941176470588235, 0.8235294117647058, 0.3607843137254902, 0.0, 0.0, 0.2901960784313726, 0.7411764705882353, 0.8313725490196079, 0.7490196078431373, 0.6862745098039216, 0.6745098039215687, 0.6862745098039216, 0.7098039215686275, 0.7254901960784313, 0.7372549019607844, 0.7411764705882353, 0.7372549019607844, 0.7568627450980392, 0.7764705882352941, 0.8, 0.8196078431372549, 0.8235294117647058, 0.8235294117647058, 0.8274509803921568, 0.7372549019607844, 0.7372549019607844, 0.7607843137254902, 0.7529411764705882, 0.8470588235294118, 0.6666666666666666, 0.0, 0.00784313725490196, 0.0, 0.0, 0.0, 0.25882352941176473, 0.7843137254901961, 0.8705882352941177, 0.9294117647058824, 0.9372549019607843, 0.9490196078431372, 0.9647058823529412, 0.9529411764705882, 0.9568627450980393, 0.8666666666666667, 0.8627450980392157, 0.7568627450980392, 0.7490196078431373, 0.7019607843137254, 0.7137254901960784, 0.7137254901960784, 0.7098039215686275, 0.6901960784313725, 0.6509803921568628, 0.6588235294117647, 0.38823529411764707, 0.22745098039215686, 0.0, 0.0, 0.0, 0.0, 0.0, 0.0, 0.0, 0.0, 0.0, 0.1568627450980392, 0.23921568627450981, 0.17254901960784313, 0.2823529411764706, 0.1607843137254902, 0.13725490196078433, 0.0, 0.0, 0.0, 0.0, 0.0, 0.0, 0.0, 0.0, 0.0, 0.0, 0.0, 0.0, 0.0, 0.0, 0.0, 0.0, 0.0, 0.0, 0.0, 0.0, 0.0, 0.0, 0.0, 0.0, 0.0, 0.0, 0.0, 0.0, 0.0, 0.0, 0.0, 0.0, 0.0, 0.0, 0.0, 0.0, 0.0, 0.0, 0.0, 0.0, 0.0, 0.0, 0.0, 0.0, 0.0, 0.0, 0.0, 0.0, 0.0, 0.0, 0.0, 0.0, 0.0, 0.0, 0.0, 0.0, 0.0, 0.0, 0.0, 0.0, 0.0, 0.0, 0.0, 0.0, 0.0, 0.0, 0.0, 0.0, 0.0, 0.0, 0.0]\n"
     ]
    }
   ],
   "source": [
    "print(np.array(train_images[0]).flatten().tolist())"
   ]
  },
  {
   "cell_type": "code",
   "execution_count": 85,
   "metadata": {},
   "outputs": [
    {
     "name": "stdout",
     "output_type": "stream",
     "text": [
      "[[3.0561343e-05 7.7002005e-06 1.8437124e-04 3.5177734e-05 2.7959622e-04\n",
      "  2.1861535e-01 3.7272050e-04 3.4268284e-01 1.5850047e-02 4.2194167e-01]]\n",
      "process time in microseconds: 43910\n"
     ]
    }
   ],
   "source": [
    "input_array = test_images[0][0:784]\n",
    "\n",
    "input = tf.reshape(input_array,[1,28,28,1])\n",
    "time_before = int(round(time.time_ns() / 1000))\n",
    "predictions = model.predict(input)\n",
    "time_after = int(round(time.time_ns() / 1000))\n",
    "print(predictions)\n",
    "print(\"process time in microseconds: \" + str(time_after - time_before))"
   ]
  },
  {
   "cell_type": "code",
   "execution_count": null,
   "metadata": {},
   "outputs": [],
   "source": []
  }
 ],
 "metadata": {
  "kernelspec": {
   "display_name": "Python 3",
   "language": "python",
   "name": "python3"
  },
  "language_info": {
   "codemirror_mode": {
    "name": "ipython",
    "version": 3
   },
   "file_extension": ".py",
   "mimetype": "text/x-python",
   "name": "python",
   "nbconvert_exporter": "python",
   "pygments_lexer": "ipython3",
   "version": "3.7.3"
  }
 },
 "nbformat": 4,
 "nbformat_minor": 2
}
