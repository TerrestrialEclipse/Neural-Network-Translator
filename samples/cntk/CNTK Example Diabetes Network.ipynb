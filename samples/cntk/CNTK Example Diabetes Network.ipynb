{
 "cells": [
  {
   "cell_type": "markdown",
   "metadata": {},
   "source": [
    "TH Nürnberg - Neural Network Translator - Christoph Brandl, Philipp Grandeit\n",
    "\n",
    "# PoC: Creation of a Frontend for CNTK Framework\n",
    "\n",
    "This jupyter notebook provides an exemplary implementation of the extraction of information from a neural network model created with the CNTK framework.\n",
    "\n",
    "In contrast to the rest of this repository, this notebook requires Python 3.6 in order to install and use the cntk module, because the cntk module is not available for Python 3.7. To install a Python 3.6 environment, a file called \"nnt_36_cntk_environment.yml\" is provided in the setup directory. It is possible to create a conda environment with all required modules using the provided environment template. Please note that all other resources of this repository are written and tested with Python 3.7 and, therefore, Python 3.7 is the prefered version. Python 3.6 is only used for this specific proof of concept."
   ]
  },
  {
   "cell_type": "code",
   "execution_count": null,
   "metadata": {},
   "outputs": [],
   "source": [
    "import cntk as C\n",
    "import numpy as np"
   ]
  },
  {
   "cell_type": "markdown",
   "metadata": {},
   "source": [
    "# Building the Network"
   ]
  },
  {
   "cell_type": "markdown",
   "metadata": {},
   "source": [
    "A feed-forward network with multiple dense layers is created."
   ]
  },
  {
   "cell_type": "code",
   "execution_count": null,
   "metadata": {},
   "outputs": [],
   "source": [
    "input_dim = 8\n",
    "num_output_classes = 1\n",
    "mysamplesize = 64\n",
    "num_hidden_layers = 1\n",
    "hidden_layers_dim = 8\n",
    "\n",
    "input = C.input_variable(input_dim)\n",
    "label = C.input_variable(num_output_classes)"
   ]
  },
  {
   "cell_type": "code",
   "execution_count": null,
   "metadata": {},
   "outputs": [],
   "source": [
    "def create_model(features):\n",
    "    with C.layers.default_options(init=C.layers.glorot_uniform(), activation=C.sigmoid):\n",
    "        h = features\n",
    "        for _ in range(num_hidden_layers):\n",
    "            h = C.layers.Dense(hidden_layers_dim, activation=C.sigmoid)(h)\n",
    "        last_layer = C.layers.Dense(num_output_classes, activation = None)\n",
    "\n",
    "        return last_layer(h)"
   ]
  },
  {
   "cell_type": "code",
   "execution_count": null,
   "metadata": {},
   "outputs": [],
   "source": [
    "model = create_model(input)"
   ]
  },
  {
   "cell_type": "markdown",
   "metadata": {},
   "source": [
    "# Save the Network Model"
   ]
  },
  {
   "cell_type": "markdown",
   "metadata": {},
   "source": [
    "The functionality of saving notebooks with the CNTK framework is available."
   ]
  },
  {
   "cell_type": "code",
   "execution_count": null,
   "metadata": {},
   "outputs": [],
   "source": [
    "model.save('cntk_diabetes.model')"
   ]
  },
  {
   "cell_type": "markdown",
   "metadata": {},
   "source": [
    "# Load the Network Model"
   ]
  },
  {
   "cell_type": "markdown",
   "metadata": {},
   "source": [
    "The functionality for loading notebooks with the CNTK framework is also available"
   ]
  },
  {
   "cell_type": "code",
   "execution_count": null,
   "metadata": {},
   "outputs": [],
   "source": [
    "from cntk.ops.functions import load_model\n",
    "\n",
    "z = load_model(\"cntk_diabetes.model\")"
   ]
  },
  {
   "cell_type": "markdown",
   "metadata": {},
   "source": [
    "# Read Network Structure and Information from the loaded Model"
   ]
  },
  {
   "cell_type": "markdown",
   "metadata": {},
   "source": [
    "Now the information saved in the model can be read. First we have a look at the structure of the loaded model containing all needed information.\n",
    "\n",
    "The information for each layer can be accessed by looping through the layers. Thus, it would possible to create a json object which complies to the required structure of the json intermediate format for the Neural Network Translator. This shows that it is possible to translate a model created with the CNTK framework into the used intermediate format and, therefore, it is possible to create a frontend plugin which can process models created with the CNTK framework."
   ]
  },
  {
   "cell_type": "code",
   "execution_count": null,
   "metadata": {},
   "outputs": [],
   "source": [
    "layers = C.logging.graph.depth_first_search(\n",
    "            model, (lambda x : type(x) == C.Function and x.is_block) , depth = 0)\n",
    "for layer in layers:\n",
    "    print(layer.op_name) #Layer type, e.g. dense\n",
    "    print(layer.is_composite)\n",
    "    print(layer.arguments) \n",
    "    print(layer.constants)\n",
    "    print(layer.parameters)\n",
    "    print(layer.attributes)\n",
    "    print('-----')"
   ]
  },
  {
   "cell_type": "markdown",
   "metadata": {},
   "source": [
    "Also the weights and biases can be read via the parameters field of each layer."
   ]
  },
  {
   "cell_type": "code",
   "execution_count": null,
   "metadata": {},
   "outputs": [],
   "source": [
    "parameters = z.parameters\n",
    "for parameter in parameters:\n",
    "    print(parameter.name, parameter.shape, \"\\n\", parameter.value) "
   ]
  },
  {
   "cell_type": "markdown",
   "metadata": {},
   "source": [
    "### END"
   ]
  }
 ],
 "metadata": {
  "kernelspec": {
   "display_name": "Python 3",
   "language": "python",
   "name": "python3"
  },
  "language_info": {
   "codemirror_mode": {
    "name": "ipython",
    "version": 3
   },
   "file_extension": ".py",
   "mimetype": "text/x-python",
   "name": "python",
   "nbconvert_exporter": "python",
   "pygments_lexer": "ipython3",
   "version": "3.6.10"
  }
 },
 "nbformat": 4,
 "nbformat_minor": 2
}
