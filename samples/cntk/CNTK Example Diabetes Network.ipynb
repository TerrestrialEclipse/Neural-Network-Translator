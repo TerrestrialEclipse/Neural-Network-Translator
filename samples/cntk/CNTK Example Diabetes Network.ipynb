{
 "cells": [
  {
   "cell_type": "markdown",
   "metadata": {},
   "source": [
    "TH Nürnberg - Neural Network Translator - Christoph Brandl, Philipp Grandeit\n",
    "\n",
    "# PoC: Creation of a frontend for CNTK framework\n",
    "\n",
    "This jupyter notebook provides an exemplary implementation of the extraction of information from a neural network model created with the CNTK framework.\n",
    "\n",
    "This notebook needs Python 3.6 in order to install the cntk module, because no cntk module "
   ]
  },
  {
   "cell_type": "code",
   "execution_count": null,
   "metadata": {},
   "outputs": [],
   "source": [
    "import cntk as C\n",
    "import numpy as np\n",
    "from sklearn.preprocessing import scale"
   ]
  },
  {
   "cell_type": "markdown",
   "metadata": {},
   "source": [
    "# Building the network"
   ]
  },
  {
   "cell_type": "markdown",
   "metadata": {},
   "source": [
    "A feed-forward network with multiple dense layers is created."
   ]
  },
  {
   "cell_type": "code",
   "execution_count": null,
   "metadata": {},
   "outputs": [],
   "source": [
    "input_dim = 8\n",
    "num_output_classes = 1\n",
    "mysamplesize = 64\n",
    "num_hidden_layers = 1\n",
    "hidden_layers_dim = 8\n",
    "\n",
    "input = C.input_variable(input_dim)\n",
    "label = C.input_variable(num_output_classes)"
   ]
  },
  {
   "cell_type": "code",
   "execution_count": null,
   "metadata": {},
   "outputs": [],
   "source": [
    "def create_model(features):\n",
    "    with C.layers.default_options(init=C.layers.glorot_uniform(), activation=C.sigmoid):\n",
    "        h = features\n",
    "        for _ in range(num_hidden_layers):\n",
    "            h = C.layers.Dense(hidden_layers_dim, activation=C.sigmoid)(h)\n",
    "        last_layer = C.layers.Dense(num_output_classes, activation = None)\n",
    "\n",
    "        return last_layer(h)"
   ]
  },
  {
   "cell_type": "code",
   "execution_count": null,
   "metadata": {},
   "outputs": [],
   "source": [
    "model = create_model(input)"
   ]
  },
  {
   "cell_type": "markdown",
   "metadata": {},
   "source": [
    "# Save the network model"
   ]
  },
  {
   "cell_type": "markdown",
   "metadata": {},
   "source": [
    "The functionality of saving notebooks with the CNTK framework is available."
   ]
  },
  {
   "cell_type": "code",
   "execution_count": null,
   "metadata": {},
   "outputs": [],
   "source": [
    "model.save('cntk_diabetes.model')"
   ]
  },
  {
   "cell_type": "markdown",
   "metadata": {},
   "source": [
    "# Load the network model"
   ]
  },
  {
   "cell_type": "markdown",
   "metadata": {},
   "source": [
    "The functionality for loading notebooks with the CNTK framework is also available"
   ]
  },
  {
   "cell_type": "code",
   "execution_count": null,
   "metadata": {},
   "outputs": [],
   "source": [
    "from cntk.ops.functions import load_model\n",
    "\n",
    "z = load_model(\"cntk_diabetes.model\")"
   ]
  },
  {
   "cell_type": "markdown",
   "metadata": {},
   "source": [
    "# Read network structure and information from the loaded model"
   ]
  },
  {
   "cell_type": "markdown",
   "metadata": {},
   "source": [
    "Now the information saved in the model can be read. First we have a look at the structure of the loaded model containing all needed information.\n",
    "\n",
    "The information can be accessed for each layer so that it would possible to create a json object with the needed structure for the json intermediate format within the Neural-Network-Translator. This shows that it is possible to generate the format from a model created with the CNTK framework and therefore it being possible to create a frontend plugin processing models from different input framework and translating them into the intermediate format."
   ]
  },
  {
   "cell_type": "code",
   "execution_count": null,
   "metadata": {},
   "outputs": [],
   "source": [
    "layers = C.logging.graph.depth_first_search(\n",
    "            model, (lambda x : type(x) == C.Function and x.is_block) , depth = 0)\n",
    "for layer in layers:\n",
    "    print(layer.op_name) #Typ des Layers z.B. Dense\n",
    "    print(layer.is_composite)\n",
    "    print(layer.arguments) \n",
    "    print(layer.constants)\n",
    "    print(layer.parameters)\n",
    "    print(layer.attributes)\n",
    "    print('-----')"
   ]
  },
  {
   "cell_type": "markdown",
   "metadata": {},
   "source": [
    "Also the weights and biases can be read via the parameters field of each layer."
   ]
  },
  {
   "cell_type": "code",
   "execution_count": null,
   "metadata": {},
   "outputs": [],
   "source": [
    "parameters = z.parameters\n",
    "for parameter in parameters:\n",
    "    print(parameter.name, parameter.shape, \"\\n\", parameter.value) "
   ]
  },
  {
   "cell_type": "markdown",
   "metadata": {},
   "source": [
    "### END"
   ]
  }
 ],
 "metadata": {
  "kernelspec": {
   "display_name": "Python 3",
   "language": "python",
   "name": "python3"
  },
  "language_info": {
   "codemirror_mode": {
    "name": "ipython",
    "version": 3
   },
   "file_extension": ".py",
   "mimetype": "text/x-python",
   "name": "python",
   "nbconvert_exporter": "python",
   "pygments_lexer": "ipython3",
   "version": "3.6.9"
  }
 },
 "nbformat": 4,
 "nbformat_minor": 2
}
