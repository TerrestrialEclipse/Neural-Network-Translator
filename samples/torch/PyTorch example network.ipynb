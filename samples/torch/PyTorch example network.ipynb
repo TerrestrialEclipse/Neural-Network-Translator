{
 "cells": [
  {
   "cell_type": "markdown",
   "metadata": {},
   "source": [
    "TH Nürnberg - Neural Network Translator - Christoph Brandl, Philipp Grandeit\n",
    "\n",
    "# PoC: Creation of a Frontend for PyTorch Framework\n",
    "\n",
    "This jupyter notebook provides an exemplary implementation of the extraction of information from a neural network model created with the PyTorch framework."
   ]
  },
  {
   "cell_type": "code",
   "execution_count": null,
   "metadata": {},
   "outputs": [],
   "source": [
    "import torch\n",
    "import torch.nn as nn\n",
    "import torchvision.models as models\n",
    "from torch.utils.data import TensorDataset, DataLoader\n",
    "import torch.nn.functional as F\n",
    "import numpy as np\n",
    "from sklearn.preprocessing import scale\n",
    "import json"
   ]
  },
  {
   "cell_type": "markdown",
   "metadata": {},
   "source": [
    "# Building the network"
   ]
  },
  {
   "cell_type": "markdown",
   "metadata": {},
   "source": [
    "A feed-forward network with different layer types is created."
   ]
  },
  {
   "cell_type": "code",
   "execution_count": null,
   "metadata": {},
   "outputs": [],
   "source": [
    "input_size = 8\n",
    "hidden_size = 8\n",
    "output_size = 1\n",
    "\n",
    "# Build a feed-forward network\n",
    "model = nn.Sequential(nn.Conv2d(16, 33, (3, 5), stride=(2, 1), padding=(4, 2), dilation=(3, 1)),\n",
    "                      nn.AvgPool2d((3, 2), stride=(2, 1)),\n",
    "                      nn.Linear(input_size, hidden_size, bias=False),\n",
    "                      nn.ReLU(),\n",
    "                      nn.Linear(hidden_size, output_size),\n",
    "                      nn.Softmax())"
   ]
  },
  {
   "cell_type": "markdown",
   "metadata": {},
   "source": [
    "# Save the network model"
   ]
  },
  {
   "cell_type": "markdown",
   "metadata": {},
   "source": [
    "The functionality of saving models is available within the PyTorch framework."
   ]
  },
  {
   "cell_type": "code",
   "execution_count": null,
   "metadata": {},
   "outputs": [],
   "source": [
    "torch.save(model, 'pytorch_2_layer_diabetes.pt')"
   ]
  },
  {
   "cell_type": "markdown",
   "metadata": {},
   "source": [
    "# Load the network model"
   ]
  },
  {
   "cell_type": "markdown",
   "metadata": {},
   "source": [
    "The functionality for loading notebooks with the PyTorch framework is also available."
   ]
  },
  {
   "cell_type": "code",
   "execution_count": null,
   "metadata": {},
   "outputs": [],
   "source": [
    "z = torch.load('pytorch_2_layer_diabetes.pt')"
   ]
  },
  {
   "cell_type": "markdown",
   "metadata": {},
   "source": [
    "# Read network structure and information from the loaded model"
   ]
  },
  {
   "cell_type": "markdown",
   "metadata": {},
   "source": [
    "Now the information saved in the model can be read. First we have to verify that the loaded model contains all layer information we specified earlier. This can be done by using the print function."
   ]
  },
  {
   "cell_type": "code",
   "execution_count": null,
   "metadata": {},
   "outputs": [],
   "source": [
    "print(z)"
   ]
  },
  {
   "cell_type": "markdown",
   "metadata": {},
   "source": [
    "As seen in the following step, the information from each layer can be accessed and, therefore, it is possible to create a json object which complies to the json intermediate format used for the Neural Network Translator.\n",
    "This shows that models created with the PyTorch framework can be translated to the proposed intermediate file format and, thereby, it is possible to create a frontend plugin for the Neural Network Translator for the PyTorch framework."
   ]
  },
  {
   "cell_type": "code",
   "execution_count": null,
   "metadata": {},
   "outputs": [],
   "source": [
    "counter=0\n",
    "output = { \"class_name\":\"Sequential\", \"config\":{\"name\":\"sequential_1\", \"layers\":[]}}\n",
    "for layer in model:\n",
    "    out_layer = dict()\n",
    "    out_layer[\"class_name\"] = str(type(layer).__name__)\n",
    "    if (type(layer)==torch.nn.modules.activation.ReLU or type(layer)==torch.nn.modules.activation.Sigmoid\n",
    "        or type(layer)==torch.nn.modules.activation.Tanh or type(layer)==torch.nn.modules.activation.Softmax):\n",
    "        output[\"config\"][\"layers\"][counter-1][\"activation\"] = str(type(layer).__name__).lower()\n",
    "        out_layer = None\n",
    "        counter = counter -1\n",
    "    elif (type(layer)==torch.nn.modules.linear.Linear):\n",
    "        if (counter==0):\n",
    "            out_layer[\"batch_input_shape\"] = ['null', layer.in_features]\n",
    "        out_layer[\"units\"]= layer.out_features\n",
    "        out_layer[\"kernel_values\"] = layer.weight.detach().numpy().tolist()\n",
    "        if (layer.bias is not None):\n",
    "            out_layer[\"bias_values\"] = layer.bias.detach().numpy().tolist()\n",
    "        out_layer[\"activation\"]=\"linear\"\n",
    "    elif (type(layer)==torch.nn.modules.conv.Conv2d or type(layer)==torch.nn.modules.conv.Conv1d):\n",
    "        if (counter==0):\n",
    "            out_layer[\"batch_input_shape\"] = layer.in_channels\n",
    "        out_layer[\"kernel_size\"] = list(tuple(layer.kernel_size))\n",
    "        out_layer[\"strides\"] = list(tuple(layer.stride))\n",
    "        out_layer[\"padding\"] = \"valid\" if layer.padding==0 else \"same\"\n",
    "        out_layer[\"dilation\"] = list(tuple(layer.dilation))\n",
    "    elif (type(layer)==torch.nn.modules.pooling.MaxPool2d or type(layer)==torch.nn.modules.pooling.MaxPool1d\n",
    "        or type(layer)==torch.nn.modules.pooling.AvgPool2d or type(layer)==torch.nn.modules.pooling.AvgPool1d):\n",
    "        if (counter==0):\n",
    "            out_layer[\"batch_input_shape\"] = layer.in_channels\n",
    "        out_layer[\"kernel_size\"] = list(tuple(layer.kernel_size))\n",
    "        out_layer[\"strides\"] = list(tuple(layer.stride))\n",
    "        out_layer[\"padding\"] = \"valid\" if layer.padding==0 else \"same\"\n",
    "        if (type(layer)==torch.nn.modules.pooling.MaxPool2d or type(layer)==torch.nn.modules.pooling.MaxPool1d):\n",
    "            out_layer[\"dilation\"] = [layer.dilation]\n",
    "\n",
    "    if (out_layer is not None):\n",
    "        output[\"config\"][\"layers\"].append(out_layer)\n",
    "    counter=counter+1\n",
    "\n",
    "print(json.dumps(output))"
   ]
  },
  {
   "cell_type": "markdown",
   "metadata": {},
   "source": [
    "### END"
   ]
  }
 ],
 "metadata": {
  "kernelspec": {
   "display_name": "Python 3",
   "language": "python",
   "name": "python3"
  },
  "language_info": {
   "codemirror_mode": {
    "name": "ipython",
    "version": 3
   },
   "file_extension": ".py",
   "mimetype": "text/x-python",
   "name": "python",
   "nbconvert_exporter": "python",
   "pygments_lexer": "ipython3",
   "version": "3.7.3"
  }
 },
 "nbformat": 4,
 "nbformat_minor": 2
}
