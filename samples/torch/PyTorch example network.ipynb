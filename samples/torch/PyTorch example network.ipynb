{
 "cells": [
  {
   "cell_type": "code",
   "execution_count": null,
   "metadata": {},
   "outputs": [],
   "source": [
    "import torch\n",
    "import torch.nn as nn\n",
    "import torchvision.models as models\n",
    "from torch.utils.data import TensorDataset, DataLoader\n",
    "import torch.nn.functional as F\n",
    "import numpy as np\n",
    "from sklearn.preprocessing import scale\n",
    "import json"
   ]
  },
  {
   "cell_type": "markdown",
   "metadata": {},
   "source": [
    "# Loading dataset"
   ]
  },
  {
   "cell_type": "code",
   "execution_count": null,
   "metadata": {},
   "outputs": [],
   "source": [
    "dataset = np.loadtxt(\"../build neural networks/diabetes.csv\", delimiter=\",\", skiprows=1 )\n",
    "diabetes_X = dataset[:,0:8]\n",
    "diabetes_Y = np.array(dataset[:,8]).astype(np.float32)\n",
    "diabetes_X = np.array(scale(diabetes_X,axis=0)).astype(np.float32)"
   ]
  },
  {
   "cell_type": "markdown",
   "metadata": {},
   "source": [
    "# Building the network"
   ]
  },
  {
   "cell_type": "code",
   "execution_count": null,
   "metadata": {},
   "outputs": [],
   "source": [
    "input_size = 8\n",
    "hidden_size = 8\n",
    "output_size = 1\n",
    "\n",
    "# Build a feed-forward network\n",
    "model = nn.Sequential(nn.Conv2d(16, 33, (3, 5), stride=(2, 1), padding=(4, 2), dilation=(3, 1)),\n",
    "                      nn.AvgPool2d((3, 2), stride=(2, 1)),\n",
    "                      nn.Linear(input_size, hidden_size, bias=False),\n",
    "                      nn.ReLU(),\n",
    "                      nn.Linear(hidden_size, output_size),\n",
    "                      nn.Softmax())"
   ]
  },
  {
   "cell_type": "markdown",
   "metadata": {},
   "source": [
    "# Train the network"
   ]
  },
  {
   "cell_type": "code",
   "execution_count": null,
   "metadata": {},
   "outputs": [],
   "source": [
    "inputs = torch.from_numpy(diabetes_X)\n",
    "targets = torch.from_numpy(diabetes_Y)\n",
    "\n",
    "train_ds = TensorDataset(inputs, targets)"
   ]
  },
  {
   "cell_type": "code",
   "execution_count": null,
   "metadata": {},
   "outputs": [],
   "source": [
    "batch_size = 10\n",
    "train_dl = DataLoader(train_ds, batch_size, shuffle=True)"
   ]
  },
  {
   "cell_type": "code",
   "execution_count": null,
   "metadata": {},
   "outputs": [],
   "source": [
    "opt = torch.optim.SGD(model.parameters(), lr=1e-5)\n",
    "loss_fn = F.mse_loss\n",
    "loss = loss_fn(model(inputs.float()), targets)"
   ]
  },
  {
   "cell_type": "code",
   "execution_count": null,
   "metadata": {},
   "outputs": [],
   "source": [
    "def fit(num_epochs, model, loss_fn, opt):\n",
    "    for epoch in range(num_epochs):\n",
    "        for xb,yb in train_dl:\n",
    "            # Generate predictions\n",
    "            pred = model(xb.float())\n",
    "            loss = loss_fn(pred, yb)\n",
    "            # Perform gradient descent\n",
    "            loss.backward()\n",
    "            opt.step()\n",
    "            opt.zero_grad()\n",
    "    print('Training loss: ', loss_fn(model(inputs), targets))"
   ]
  },
  {
   "cell_type": "code",
   "execution_count": null,
   "metadata": {},
   "outputs": [],
   "source": [
    "fit(100, model, loss_fn, opt)"
   ]
  },
  {
   "cell_type": "code",
   "execution_count": null,
   "metadata": {},
   "outputs": [],
   "source": [
    "model.state_dict()"
   ]
  },
  {
   "cell_type": "markdown",
   "metadata": {},
   "source": [
    "# Save the network"
   ]
  },
  {
   "cell_type": "code",
   "execution_count": null,
   "metadata": {},
   "outputs": [],
   "source": [
    "torch.save(model, 'pytorch_2_layer_diabetes.pt')"
   ]
  },
  {
   "cell_type": "markdown",
   "metadata": {},
   "source": [
    "# Load network"
   ]
  },
  {
   "cell_type": "code",
   "execution_count": null,
   "metadata": {},
   "outputs": [],
   "source": [
    "z = torch.load('pytorch_2_layer_diabetes.pt')"
   ]
  },
  {
   "cell_type": "markdown",
   "metadata": {},
   "source": [
    "# Read network structure and information"
   ]
  },
  {
   "cell_type": "code",
   "execution_count": null,
   "metadata": {},
   "outputs": [],
   "source": [
    "for layer in z:\n",
    "    print(type(layer)) # type of layer, Activation functions are own layers here\n",
    "    #print(layer.__dict__)\n",
    "    if (type(layer)==torch.nn.modules.linear.Linear):\n",
    "        print(layer.in_features) # input_size\n",
    "        print(layer.out_features) # output_size --> equals units\n",
    "        #print(layer.weights) # weights\n",
    "        if (layer.bias is not None):\n",
    "            print(layer.bias.detach().numpy()) # bias is None if use_bias=False else bias is not None\n",
    "    elif (type(layer)==torch.nn.modules.conv.Conv2d):\n",
    "        print(layer.in_channels) # input_size\n",
    "        print(layer.out_channels) # output_size\n",
    "        print(layer.kernel_size) # kernel_size\n",
    "        print(layer.stride) # stride_size\n",
    "        print(layer.padding) # padding_size\n",
    "        print(layer.dilation) # dilation_Size\n",
    "        print(layer.bias.detach().numpy()) # bias is None if use_bias=False else bias is not None\n",
    "    elif (type(layer)==torch.nn.modules.pooling.MaxPool2d):\n",
    "        print(layer.kernel_size) # pool_size\n",
    "        print(layer.stride) # stride_size\n",
    "        print(layer.padding) # padding_size\n",
    "        print(layer.dilation) # dilation_Size\n",
    "    print('-------')"
   ]
  },
  {
   "cell_type": "code",
   "execution_count": null,
   "metadata": {},
   "outputs": [],
   "source": [
    "z.state_dict() # weights and biases"
   ]
  },
  {
   "cell_type": "code",
   "execution_count": null,
   "metadata": {},
   "outputs": [],
   "source": [
    "print(z)"
   ]
  },
  {
   "cell_type": "code",
   "execution_count": null,
   "metadata": {},
   "outputs": [],
   "source": [
    "counter=0\n",
    "output = { \"class_name\":\"Sequential\", \"config\":{\"name\":\"sequential_1\", \"layers\":[]}}\n",
    "for layer in model:\n",
    "    out_layer = dict()\n",
    "    out_layer[\"class_name\"] = str(type(layer).__name__)\n",
    "    if (type(layer)==torch.nn.modules.activation.ReLU or type(layer)==torch.nn.modules.activation.Sigmoid\n",
    "        or type(layer)==torch.nn.modules.activation.Tanh or type(layer)==torch.nn.modules.activation.Softmax):\n",
    "        output[\"config\"][\"layers\"][counter-1][\"activation\"] = str(type(layer).__name__).lower()\n",
    "        out_layer = None\n",
    "        counter = counter -1\n",
    "    elif (type(layer)==torch.nn.modules.linear.Linear):\n",
    "        if (counter==0):\n",
    "            out_layer[\"batch_input_shape\"] = ['null', layer.in_features]\n",
    "        out_layer[\"units\"]= layer.out_features\n",
    "        out_layer[\"kernel_values\"] = layer.weight.detach().numpy().tolist()\n",
    "        if (layer.bias is not None):\n",
    "            out_layer[\"bias_values\"] = layer.bias.detach().numpy().tolist()\n",
    "        out_layer[\"activation\"]=\"linear\"\n",
    "    elif (type(layer)==torch.nn.modules.conv.Conv2d or type(layer)==torch.nn.modules.conv.Conv1d):\n",
    "        if (counter==0):\n",
    "            out_layer[\"batch_input_shape\"] = layer.in_channels\n",
    "        out_layer[\"kernel_size\"] = list(tuple(layer.kernel_size))\n",
    "        out_layer[\"strides\"] = list(tuple(layer.stride))\n",
    "        out_layer[\"padding\"] = \"valid\" if layer.padding==0 else \"same\"\n",
    "        out_layer[\"dilation\"] = list(tuple(layer.dilation))\n",
    "    elif (type(layer)==torch.nn.modules.pooling.MaxPool2d or type(layer)==torch.nn.modules.pooling.MaxPool1d\n",
    "        or type(layer)==torch.nn.modules.pooling.AvgPool2d or type(layer)==torch.nn.modules.pooling.AvgPool1d):\n",
    "        if (counter==0):\n",
    "            out_layer[\"batch_input_shape\"] = layer.in_channels\n",
    "        out_layer[\"kernel_size\"] = list(tuple(layer.kernel_size))\n",
    "        out_layer[\"strides\"] = list(tuple(layer.stride))\n",
    "        out_layer[\"padding\"] = \"valid\" if layer.padding==0 else \"same\"\n",
    "        if (type(layer)==torch.nn.modules.pooling.MaxPool2d or type(layer)==torch.nn.modules.pooling.MaxPool1d):\n",
    "            out_layer[\"dilation\"] = [layer.dilation]\n",
    "\n",
    "    if (out_layer is not None):\n",
    "        output[\"config\"][\"layers\"].append(out_layer)\n",
    "    counter=counter+1\n",
    "\n",
    "print(json.dumps(output))"
   ]
  },
  {
   "cell_type": "code",
   "execution_count": null,
   "metadata": {},
   "outputs": [],
   "source": []
  }
 ],
 "metadata": {
  "kernelspec": {
   "display_name": "Python 3",
   "language": "python",
   "name": "python3"
  },
  "language_info": {
   "codemirror_mode": {
    "name": "ipython",
    "version": 3
   },
   "file_extension": ".py",
   "mimetype": "text/x-python",
   "name": "python",
   "nbconvert_exporter": "python",
   "pygments_lexer": "ipython3",
   "version": "3.6.9"
  }
 },
 "nbformat": 4,
 "nbformat_minor": 2
}
